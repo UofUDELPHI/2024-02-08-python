{
 "cells": [
  {
   "cell_type": "markdown",
   "metadata": {},
   "source": [
    "## The numpy library"
   ]
  },
  {
   "cell_type": "markdown",
   "metadata": {},
   "source": [
    "Some functions that exist \"natively\" in the Python programming language (like `type()`, `bool()`, `int()`, etc), byt Python lacks native versions of many important functions, such as the logarithm, exponential, and square root functions. \n",
    "\n",
    "Libraries can be installed that provide access to many functions. \n",
    "\n",
    "The **Numpy** library (pronounced \"Num Pie\") is an add-on library that gives us access to many mathematical functions such as the `log()`, `exp()`, and `sqrt()` functions."
   ]
  },
  {
   "cell_type": "markdown",
   "metadata": {},
   "source": [
    "### Installing numpy\n",
    "\n",
    "Just like an application on your computer, where you need to *first download and install* the application before you can use it on your computer, before you can use Python libraries, you need to first download and install them. \n",
    "\n",
    "\n",
    "**Downloading libraries requires internet access.**"
   ]
  },
  {
   "cell_type": "markdown",
   "metadata": {},
   "source": [
    "Note that just like **you only ever have to download and install an application to your computer _once_**, you similarly only need to install each Python library *once*. Thus it is not encouraged to repeatedly run a `pip install <libraryname>` command every time you work on your notebook. "
   ]
  },
  {
   "cell_type": "code",
   "execution_count": null,
   "metadata": {},
   "outputs": [],
   "source": [
    "# install numpy and then comment out the installation line\n",
    "# !pip install numpy"
   ]
  },
  {
   "cell_type": "markdown",
   "metadata": {},
   "source": [
    "\n",
    "### Importing numpy\n",
    "\n",
    "Unlike the `pip install` command, you **do** need to include this `import` line of code in every new `.ipynb` notebook file."
   ]
  },
  {
   "cell_type": "code",
   "execution_count": null,
   "metadata": {},
   "outputs": [],
   "source": [
    "# import numpy and rename it to np\n"
   ]
  },
  {
   "cell_type": "markdown",
   "metadata": {},
   "source": [
    "### Using numpy functions\n",
    "\n",
    "Define a variable `x` that contains the value `2`:"
   ]
  },
  {
   "cell_type": "code",
   "execution_count": null,
   "metadata": {},
   "outputs": [],
   "source": [
    "# define a variable x and assign it a value of 2\n"
   ]
  },
  {
   "cell_type": "code",
   "execution_count": null,
   "metadata": {},
   "outputs": [],
   "source": [
    "# take a look at x\n"
   ]
  },
  {
   "cell_type": "markdown",
   "metadata": {},
   "source": [
    "If we wanted to compute the logarithm of `x`, you might imagine that we would write:"
   ]
  },
  {
   "cell_type": "code",
   "execution_count": null,
   "metadata": {},
   "outputs": [],
   "source": [
    "# try to compute the log of x using the log() function\n"
   ]
  },
  {
   "cell_type": "markdown",
   "metadata": {},
   "source": [
    "But, notice that we get an error that essentially says that Python doesn't know what `log()` is. \n",
    "\n",
    "In Python, to access functions that come from imported libraries, you need to extract the function from the library shorthand/nickname using the `library.function()` syntax, e.g., `np.log()` instead of just `log()`:"
   ]
  },
  {
   "cell_type": "code",
   "execution_count": null,
   "metadata": {},
   "outputs": [],
   "source": [
    "# try to compute the log of x using the np.log() function\n"
   ]
  },
  {
   "cell_type": "markdown",
   "metadata": {},
   "source": [
    "This is also true of the `sqrt()` function that is imported from the `numpy` library:"
   ]
  },
  {
   "cell_type": "code",
   "execution_count": null,
   "metadata": {},
   "outputs": [],
   "source": [
    "# compute the square root of x\n"
   ]
  },
  {
   "cell_type": "markdown",
   "metadata": {},
   "source": [
    "And the `exp()` function:"
   ]
  },
  {
   "cell_type": "code",
   "execution_count": null,
   "metadata": {},
   "outputs": [],
   "source": [
    "# compute the exponential of 2\n"
   ]
  },
  {
   "cell_type": "markdown",
   "metadata": {},
   "source": [
    "### Exercise\n",
    "\n",
    "Compute the sum of the log of 7 and the square root of 8 and exponentiate the result, i.e., $e^{\\log(7) + \\sqrt{8}}$."
   ]
  }
 ],
 "metadata": {
  "kernelspec": {
   "display_name": "Python 3",
   "language": "python",
   "name": "python3"
  },
  "language_info": {
   "codemirror_mode": {
    "name": "ipython",
    "version": 3
   },
   "file_extension": ".py",
   "mimetype": "text/x-python",
   "name": "python",
   "nbconvert_exporter": "python",
   "pygments_lexer": "ipython3",
   "version": "3.11.4"
  },
  "orig_nbformat": 4
 },
 "nbformat": 4,
 "nbformat_minor": 2
}
