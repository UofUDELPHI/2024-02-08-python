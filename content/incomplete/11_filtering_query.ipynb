{
 "cells": [
  {
   "cell_type": "markdown",
   "metadata": {},
   "source": [
    "## Filtering the rows using the `.query` method\n",
    "\n",
    "In this section, we will introduce another row filtering approach using the `.query()` method."
   ]
  },
  {
   "cell_type": "code",
   "execution_count": null,
   "metadata": {},
   "outputs": [],
   "source": [
    "# import pandas\n",
    "\n",
    "# load the gapminder dataset\n",
    "\n",
    "# take a look at the head of gapminder\n"
   ]
  },
  {
   "cell_type": "markdown",
   "metadata": {},
   "source": [
    "As a reminder, so far we have learned:"
   ]
  },
  {
   "cell_type": "code",
   "execution_count": null,
   "metadata": {},
   "outputs": [],
   "source": [
    "# filter to Australia using a logical condition inside `gapminder[]`\n"
   ]
  },
  {
   "cell_type": "code",
   "execution_count": null,
   "metadata": {},
   "outputs": [],
   "source": [
    "# filter to Australia using a logical condition inside `gapminder.loc[,]`\n"
   ]
  },
  {
   "cell_type": "markdown",
   "metadata": {},
   "source": [
    "### Filtering using `.query()`\n",
    "\n",
    "The `.query()` method does the same thing, but the syntax is a bit different. "
   ]
  },
  {
   "cell_type": "code",
   "execution_count": null,
   "metadata": {},
   "outputs": [],
   "source": [
    "# filter to Australia using a logical string expression inside query\n"
   ]
  },
  {
   "cell_type": "markdown",
   "metadata": {},
   "source": [
    "### External variables in the `.query()` method\n",
    "\n",
    "Note that if you want to use an \"external\" variable in your filtering query, you need to access it within the argument using `@variable_name`. "
   ]
  },
  {
   "cell_type": "code",
   "execution_count": null,
   "metadata": {},
   "outputs": [],
   "source": [
    "# define a variable, selected_country, and assign it the string 'Brazil'\n",
    "\n",
    "# use query with @ to filter gapminder to selected_country\n"
   ]
  },
  {
   "cell_type": "markdown",
   "metadata": {},
   "source": [
    "### Combining `.query()` with `.loc`\n",
    "\n",
    "Note that since `gapminder.query()` outputs a DataFrame itself, you can follow a query method call with further subsetting, e.g., using `.loc[]`"
   ]
  },
  {
   "cell_type": "code",
   "execution_count": null,
   "metadata": {},
   "outputs": [],
   "source": [
    "# Use .query() to filter to the selected country and then use df.loc[,] to select the year and lifeExp columns\n"
   ]
  },
  {
   "cell_type": "markdown",
   "metadata": {},
   "source": [
    "Note, however, that you cannot reverse the order of the `.loc` indexer and the `query()` method in this case."
   ]
  },
  {
   "cell_type": "code",
   "execution_count": null,
   "metadata": {},
   "outputs": [],
   "source": [
    "# Try to use .loc[,] to select the year and lifeExp columns and then use .query() to filter to the selected country\n"
   ]
  },
  {
   "cell_type": "markdown",
   "metadata": {},
   "source": [
    "### Exercise\n",
    "\n",
    "Use the query method to filter to the gapminder data to the year 2007, and return just the `country` and `lifeExp` columns.\n",
    "\n",
    "Then do the same thing using only the `.loc` indexer."
   ]
  }
 ],
 "metadata": {
  "kernelspec": {
   "display_name": "Python 3",
   "language": "python",
   "name": "python3"
  },
  "language_info": {
   "codemirror_mode": {
    "name": "ipython",
    "version": 3
   },
   "file_extension": ".py",
   "mimetype": "text/x-python",
   "name": "python",
   "nbconvert_exporter": "python",
   "pygments_lexer": "ipython3",
   "version": "3.11.4"
  }
 },
 "nbformat": 4,
 "nbformat_minor": 2
}
