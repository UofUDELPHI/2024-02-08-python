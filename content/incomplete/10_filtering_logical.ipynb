{
 "cells": [
  {
   "cell_type": "markdown",
   "metadata": {},
   "source": [
    "# Filtering using logical operations and `.loc`"
   ]
  },
  {
   "cell_type": "code",
   "execution_count": null,
   "metadata": {},
   "outputs": [],
   "source": [
    "# import pandas\n",
    "\n",
    "# load the gapminder dataset\n",
    "\n",
    "# take a look at the head of gapminder\n"
   ]
  },
  {
   "cell_type": "markdown",
   "metadata": {},
   "source": [
    "### Filtering with `.loc` using a boolean series\n",
    "\n"
   ]
  },
  {
   "cell_type": "markdown",
   "metadata": {},
   "source": [
    "Recall that you can create a **boolean series** based on a **logical condition** on a column from a DataFrame. "
   ]
  },
  {
   "cell_type": "code",
   "execution_count": null,
   "metadata": {},
   "outputs": [],
   "source": [
    "# use a boolean operation to identify which rows have the value 'Australia' in the 'country' column \n",
    "# save the result as australia_index\n"
   ]
  },
  {
   "cell_type": "markdown",
   "metadata": {},
   "source": [
    "\n",
    "We can use this boolean series to subset/filter the rows of our DataFrame by providing it in the row indexing position of the `.loc` indexer. "
   ]
  },
  {
   "cell_type": "code",
   "execution_count": null,
   "metadata": {},
   "outputs": [],
   "source": [
    "# use .loc and australia_index to select only the rows corresponding to Australia\n"
   ]
  },
  {
   "cell_type": "markdown",
   "metadata": {},
   "source": [
    "The simpler `df[]` syntax can be used to filter *either* the columns or the rows, but not both at the same time. \n",
    "\n",
    "If you provide a list of column names, Pandas will know that you are trying to subset to those *columns*, whereas if you provide a boolean series whose length equals the number of rows, Pandas will know that you are trying to subset the *rows*. \n",
    "\n",
    "But just looking at the code, if you don't know what the data looks like, it is very hard to tell if the syntax below is subsetting the rows or the columns."
   ]
  },
  {
   "cell_type": "code",
   "execution_count": null,
   "metadata": {},
   "outputs": [],
   "source": [
    "# using the single-bracket `df[]` syntax:\n",
    "gapminder[australia_index]"
   ]
  },
  {
   "cell_type": "markdown",
   "metadata": {},
   "source": [
    "This it is recommended that you use the `.loc` indexing syntax, which has an explicit position for the row subsetting and the column subsetting: `df.loc[row_index,column_index]`"
   ]
  },
  {
   "cell_type": "markdown",
   "metadata": {},
   "source": [
    "Rather than defining a separate indexing series object for filtering the rows (like `australia_index`), it is common to just put the logical filtering condition directly in the indexing syntax:"
   ]
  },
  {
   "cell_type": "code",
   "execution_count": null,
   "metadata": {},
   "outputs": [],
   "source": [
    "# directly use logical conditioning inside .loc to select only the rows corresponding to Australia\n"
   ]
  },
  {
   "cell_type": "markdown",
   "metadata": {},
   "source": [
    "### Multiple conditions\n",
    "\n",
    "You can provide multiple row filtering conditions by separating them with an `&`:"
   ]
  },
  {
   "cell_type": "code",
   "execution_count": null,
   "metadata": {},
   "outputs": [],
   "source": [
    "# provide multiple logical conditions in `.loc` to filter the rows so that only rows corresponding to Australia after 1990 are selected\n"
   ]
  },
  {
   "cell_type": "markdown",
   "metadata": {},
   "source": [
    "### Exercise\n",
    "\n",
    "Extract the subset of the data corresponding to Asian countries for which the life expectancy is at least 75."
   ]
  }
 ],
 "metadata": {
  "kernelspec": {
   "display_name": "Python 3",
   "language": "python",
   "name": "python3"
  },
  "language_info": {
   "codemirror_mode": {
    "name": "ipython",
    "version": 3
   },
   "file_extension": ".py",
   "mimetype": "text/x-python",
   "name": "python",
   "nbconvert_exporter": "python",
   "pygments_lexer": "ipython3",
   "version": "3.11.4"
  }
 },
 "nbformat": 4,
 "nbformat_minor": 2
}
