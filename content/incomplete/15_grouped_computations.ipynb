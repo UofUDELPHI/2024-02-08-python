{
 "cells": [
  {
   "cell_type": "markdown",
   "metadata": {},
   "source": [
    "# Grouped Computations for DataFrames"
   ]
  },
  {
   "cell_type": "code",
   "execution_count": null,
   "metadata": {},
   "outputs": [],
   "source": [
    "import pandas as pd\n",
    "gapminder = pd.read_csv('data/gapminder.csv')\n",
    "# create a version of gapminder with only the numeric columns called `gapminder_numeric`\n",
    "gapminder_numeric = gapminder.select_dtypes(include='number').copy()"
   ]
  },
  {
   "cell_type": "markdown",
   "metadata": {},
   "source": [
    "### The `.groupby()` method\n",
    "\n",
    "Sometimes we want to compute a summary separately for different groups (where the groups might be defined by the unique values in a column).\n"
   ]
  },
  {
   "cell_type": "code",
   "execution_count": null,
   "metadata": {},
   "outputs": [],
   "source": [
    "# Apply the .mean() method to gapminder_numeric\n",
    "\n",
    "# Apply the .mean() method to gapminder_numeric, but group by the 'year' column.\n"
   ]
  },
  {
   "cell_type": "markdown",
   "metadata": {},
   "source": [
    "### Grouping by multiple columns\n",
    "\n",
    "We can group by multiple columns at once by providing a *list* of the column names to the `.groupby()` method."
   ]
  },
  {
   "cell_type": "code",
   "execution_count": null,
   "metadata": {},
   "outputs": [],
   "source": [
    "# group by the year and continent columns and compute the mean of the lifeExp column\n"
   ]
  },
  {
   "cell_type": "markdown",
   "metadata": {},
   "source": [
    "### Exercise\n",
    "\n",
    "1. Compute the maximum population for each country\n",
    "\n",
    "2. Compute the mean gdpPercap for each continent averaged across all years after 1990"
   ]
  }
 ],
 "metadata": {
  "kernelspec": {
   "display_name": "Python 3",
   "language": "python",
   "name": "python3"
  },
  "language_info": {
   "codemirror_mode": {
    "name": "ipython",
    "version": 3
   },
   "file_extension": ".py",
   "mimetype": "text/x-python",
   "name": "python",
   "nbconvert_exporter": "python",
   "pygments_lexer": "ipython3",
   "version": "3.11.4"
  }
 },
 "nbformat": 4,
 "nbformat_minor": 2
}
