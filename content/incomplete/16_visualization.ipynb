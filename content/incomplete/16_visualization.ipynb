{
 "cells": [
  {
   "cell_type": "markdown",
   "metadata": {},
   "source": [
    "# Visualizing DataFrames\n",
    "\n",
    "In this notebook, we will use the pandas visualization methods to visualize our DataFrames. We will also touch on other visualization libraries that allow you to create more advanced and customized figures."
   ]
  },
  {
   "cell_type": "code",
   "execution_count": null,
   "metadata": {},
   "outputs": [],
   "source": [
    "import pandas as pd\n",
    "\n",
    "gapminder = pd.read_csv('data/gapminder.csv')"
   ]
  },
  {
   "cell_type": "markdown",
   "metadata": {},
   "source": [
    "## Pandas visualization methods\n",
    "\n",
    "Pandas has a few methods that allow you to quickly create visualizations from your DataFrame. We will use the `plot` method to create a few plots.\n",
    "\n",
    "The general syntax is `df.plot(kind=<plottype>)`"
   ]
  },
  {
   "cell_type": "code",
   "execution_count": null,
   "metadata": {},
   "outputs": [],
   "source": [
    "# Use `df.plot` to create a scatterplot of gdpPercap vs lifeExp\n"
   ]
  },
  {
   "cell_type": "code",
   "execution_count": null,
   "metadata": {},
   "outputs": [],
   "source": [
    "# Use `df.plot` to create a barplot of the number of countries in each continent\n",
    "# Hint: use value_counts() first to get the counts\n"
   ]
  },
  {
   "cell_type": "code",
   "execution_count": null,
   "metadata": {},
   "outputs": [],
   "source": [
    "# create a histogram of the life expectancy\n",
    "# Hint: extract the lifeExp column first\n"
   ]
  },
  {
   "cell_type": "markdown",
   "metadata": {},
   "source": [
    "### The Seaborn library\n",
    "\n",
    "The inbuilt Pandas plotting functionalities are somewhat limited in what they can do.\n",
    "\n",
    "If you want to create more sophisticated visualizations, you'll want to use another library. One of the most popular libraries for data visualization is [Seaborn](https://seaborn.pydata.org/)."
   ]
  },
  {
   "cell_type": "code",
   "execution_count": null,
   "metadata": {},
   "outputs": [],
   "source": [
    "# Import seaborn\n",
    "\n",
    "\n",
    "# Use seaborn to create a scatterplot of gdpPercap vs lifeExp\n"
   ]
  },
  {
   "cell_type": "code",
   "execution_count": null,
   "metadata": {},
   "outputs": [],
   "source": [
    "# create a version of the above scatterplot for just the year 2007, \n",
    "# where the color is based on continent \n",
    "# and the size is based on population\n",
    "# and the size range is from 20 to 500\n",
    "# and the transparency is 0.7\n"
   ]
  },
  {
   "cell_type": "markdown",
   "metadata": {},
   "source": [
    "Creating bar charts and histograms with seaborn is also fairly straightforward"
   ]
  },
  {
   "cell_type": "code",
   "execution_count": null,
   "metadata": {},
   "outputs": [],
   "source": [
    "# create a bar chart of the number of countries in each continent using sns.countplot()\n"
   ]
  },
  {
   "cell_type": "code",
   "execution_count": null,
   "metadata": {},
   "outputs": [],
   "source": [
    "# create a histogram of lifeExp using sns.histplot()\n"
   ]
  }
 ],
 "metadata": {
  "kernelspec": {
   "display_name": "Python 3",
   "language": "python",
   "name": "python3"
  },
  "language_info": {
   "codemirror_mode": {
    "name": "ipython",
    "version": 3
   },
   "file_extension": ".py",
   "mimetype": "text/x-python",
   "name": "python",
   "nbconvert_exporter": "python",
   "pygments_lexer": "ipython3",
   "version": "3.11.4"
  }
 },
 "nbformat": 4,
 "nbformat_minor": 2
}
