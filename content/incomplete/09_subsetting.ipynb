{
 "cells": [
  {
   "cell_type": "markdown",
   "metadata": {},
   "source": [
    "# Extracting subsets of data frames\n",
    "\n",
    "In this notebook, we will learn how to manipulate pandas DataFrame objects, starting with extracting subsets."
   ]
  },
  {
   "cell_type": "code",
   "execution_count": null,
   "metadata": {},
   "outputs": [],
   "source": [
    "# import pandas\n",
    "\n",
    "# load the gapminder dataset and save as `gapminder`\n",
    "\n",
    "# take a look at the head of gapminder\n"
   ]
  },
  {
   "cell_type": "markdown",
   "metadata": {},
   "source": [
    "### Extracting multiple columns\n"
   ]
  },
  {
   "cell_type": "code",
   "execution_count": null,
   "metadata": {},
   "outputs": [],
   "source": [
    "# try to extract two columns: country and gdpPercap from gapminder using the `df[]` notation with two column names\n"
   ]
  },
  {
   "cell_type": "markdown",
   "metadata": {},
   "source": [
    "The `df[]` syntax expects only one value (or object) inside the square parentheses. \n",
    "\n",
    "Fortunately, you can provide multiple column names as a single **list** object."
   ]
  },
  {
   "cell_type": "code",
   "execution_count": null,
   "metadata": {},
   "outputs": [],
   "source": [
    "# create a list containing the names of the columns we want to extract: 'country' and 'gdpPercap' \n"
   ]
  },
  {
   "cell_type": "markdown",
   "metadata": {},
   "source": [
    "You can extract both the country and gdpPercap columns by providing this *list* in the indexing square parentheses"
   ]
  },
  {
   "cell_type": "code",
   "execution_count": null,
   "metadata": {},
   "outputs": [],
   "source": [
    "# provide the list of names inside the `df[]` notation to extract the two columns from gapminder\n"
   ]
  },
  {
   "cell_type": "markdown",
   "metadata": {},
   "source": [
    "### The `.loc` indexer\n",
    "\n",
    "An alternative (and ultimately more flexible) approach to subsetting a Pandas DataFrame is to use the `.loc` indexer. \n",
    "\n",
    "With `.loc`, the square brackets expect *two* values: one for the *row* index and one for the *column* index. \n",
    "\n",
    "The general syntax is `df.loc[rows, cols]`."
   ]
  },
  {
   "cell_type": "code",
   "execution_count": null,
   "metadata": {},
   "outputs": [],
   "source": [
    "# Use `df.loc[,]` to extract the entry with row index 3 from the 'gdpPercap' column\n"
   ]
  },
  {
   "cell_type": "markdown",
   "metadata": {},
   "source": [
    "### Using `:` with `.loc` to select all rows/columns\n",
    "\n",
    "If you want to extract all rows (or columns), you can replace the corresponding index entry with `:`. So the following code will extract all rows for the `gdpPercap` column:"
   ]
  },
  {
   "cell_type": "code",
   "execution_count": null,
   "metadata": {},
   "outputs": [],
   "source": [
    "# Use `df.loc[,]` to extract all rows from the 'gdpPercap' column\n",
    "\n",
    "# what are two other ways that you could do this same thing?\n"
   ]
  },
  {
   "cell_type": "markdown",
   "metadata": {},
   "source": [
    "If you want to extract multiple columns (or rows), you still need to provide all of the index values that you want to extract in a list."
   ]
  },
  {
   "cell_type": "code",
   "execution_count": null,
   "metadata": {},
   "outputs": [],
   "source": [
    "# use `df.loc[,]` to extract all rows for the 'country' and 'gdpPercap' columns\n",
    "\n",
    "# what is another way to do the same thing?"
   ]
  },
  {
   "cell_type": "code",
   "execution_count": null,
   "metadata": {},
   "outputs": [],
   "source": [
    "# extract the rows with index 4, 5, 6, 7, and 8 for the country and gdpPercap columns\n"
   ]
  },
  {
   "cell_type": "markdown",
   "metadata": {},
   "source": [
    "If your index corresponds to a sequence of integers, you can instead provide a \"range\" object:"
   ]
  },
  {
   "cell_type": "code",
   "execution_count": null,
   "metadata": {},
   "outputs": [],
   "source": [
    "# use the `range()` function to simplify the code in the previous cell\n"
   ]
  },
  {
   "cell_type": "markdown",
   "metadata": {},
   "source": [
    "### Using `.loc` with non-numeric indexes\n",
    "\n",
    "Let's create `gapminder_country`, whose row index corresponds to the country variable:"
   ]
  },
  {
   "cell_type": "code",
   "execution_count": null,
   "metadata": {},
   "outputs": [],
   "source": [
    "# define gapminder_country as a new dataframe with the country column as the row index\n",
    "\n",
    "# look at gapminder_country\n"
   ]
  },
  {
   "cell_type": "code",
   "execution_count": null,
   "metadata": {},
   "outputs": [],
   "source": [
    "# use the `df.loc[,]` notation to extract the rows for Germany for the gdpPercap column\n"
   ]
  },
  {
   "cell_type": "markdown",
   "metadata": {},
   "source": [
    "### Exercise\n",
    "\n",
    "1. Extract the population and year columns for Australia using `gapminder_country`."
   ]
  },
  {
   "cell_type": "markdown",
   "metadata": {},
   "source": [
    "2. Extract the 'country' and 'lifeExp' columns for the first, second, and third rows of `gapminder_country`."
   ]
  }
 ],
 "metadata": {
  "kernelspec": {
   "display_name": "Python 3",
   "language": "python",
   "name": "python3"
  },
  "language_info": {
   "codemirror_mode": {
    "name": "ipython",
    "version": 3
   },
   "file_extension": ".py",
   "mimetype": "text/x-python",
   "name": "python",
   "nbconvert_exporter": "python",
   "pygments_lexer": "ipython3",
   "version": "3.11.4"
  }
 },
 "nbformat": 4,
 "nbformat_minor": 2
}
