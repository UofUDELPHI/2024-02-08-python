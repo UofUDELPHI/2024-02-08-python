{
 "cells": [
  {
   "cell_type": "markdown",
   "metadata": {},
   "source": [
    "## Subsetting with the `.iloc` indexer\n",
    "\n",
    "The `.iloc` indexer allows you to do positional indexing, whereas `.loc` required that you do named indexing. The fact that we could provide integer positions to the `.loc` indexer previously was a result of the fact that the row index values of the `gapminder` DataFrame were themselves integer values.\n",
    "\n",
    "Let's take a quick look at the gapminder dataset (notice that the row index consists of integers):"
   ]
  },
  {
   "cell_type": "code",
   "execution_count": null,
   "metadata": {},
   "outputs": [],
   "source": [
    "# import pandas\n",
    "\n",
    "# load the gapminder dataset\n",
    "\n",
    "# take a look at the head of gapminder\n"
   ]
  },
  {
   "cell_type": "markdown",
   "metadata": {},
   "source": [
    "A `.loc[,]` reminder:"
   ]
  },
  {
   "cell_type": "code",
   "execution_count": null,
   "metadata": {},
   "outputs": [],
   "source": [
    "# use .loc[,] to subset row with index 1, 4, 5 and columns `year', 'lifeExp', 'pop' from gapminder\n"
   ]
  },
  {
   "cell_type": "markdown",
   "metadata": {},
   "source": [
    "Define the `gapminder_country` DataFrame that has the `country` column as the row index:"
   ]
  },
  {
   "cell_type": "code",
   "execution_count": null,
   "metadata": {},
   "outputs": [],
   "source": [
    "# create gapminder_country dataframe with country as index\n",
    "\n",
    "# look at the head of gapminder_country\n"
   ]
  },
  {
   "cell_type": "markdown",
   "metadata": {},
   "source": [
    "### Positional indexing with `.iloc`\n",
    "\n",
    "Now let's try and extract the rows 1, 4, and 5 and the columns `'year'`, `'lifeExp'`, and `'pop'` from this country-indexed version of gapminder:"
   ]
  },
  {
   "cell_type": "code",
   "execution_count": null,
   "metadata": {},
   "outputs": [],
   "source": [
    "# Try to use .loc[,] to subset row with index 1, 4, 5 and columns `year', 'lifeExp', 'pop' from gapminder_country\n"
   ]
  },
  {
   "cell_type": "markdown",
   "metadata": {},
   "source": [
    "We get an error, because there are no longer any rows with row index names 1, 4, 5.\n",
    "\n",
    "If you want to do positional indexing, use `.iloc`.\n"
   ]
  },
  {
   "cell_type": "code",
   "execution_count": null,
   "metadata": {},
   "outputs": [],
   "source": [
    "# Use .iloc to extract the 3rd row and 3rd column (i.e., index position of 2) of gapminder_country using positional indexing\n"
   ]
  },
  {
   "cell_type": "markdown",
   "metadata": {},
   "source": [
    "You can subset to multiple rows and column by providing a list of row/column positions to the corresponding entry of the `.iloc` indexer. "
   ]
  },
  {
   "cell_type": "code",
   "execution_count": null,
   "metadata": {},
   "outputs": [],
   "source": [
    "# Use .iloc to extract rows in position 2, 5, 7, and the columns in position 1 and 3\n"
   ]
  },
  {
   "cell_type": "markdown",
   "metadata": {},
   "source": [
    "### Using `:` to mean all rows/columns\n",
    "\n",
    "We can also use the `:` placeholder for \"all rows\" or \"all columns\". "
   ]
  },
  {
   "cell_type": "code",
   "execution_count": null,
   "metadata": {},
   "outputs": [],
   "source": [
    "# Use .iloc to extract all rows for columns 0, 3, 5\n"
   ]
  },
  {
   "cell_type": "markdown",
   "metadata": {},
   "source": [
    "### More general sequences with `start:stop:step`\n",
    "\n",
    "`start:stop:step`, e.g., `0:20:2`, will similarly correspond to a list of integers from 0 up to 20 (non-inclusive) with a step size of 2, so 0, 2, 4, 6, ..., 18. \n"
   ]
  },
  {
   "cell_type": "code",
   "execution_count": null,
   "metadata": {},
   "outputs": [],
   "source": [
    "# Use .iloc to extract rows 0, 2, 4, 6, ..., 18 (inclusive) for columns 0 to 3 (inclusive)\n"
   ]
  },
  {
   "cell_type": "markdown",
   "metadata": {},
   "source": [
    "### Exercise\n",
    "\n",
    "Use `iloc` to extract every third row starting at index position 2 up to position 100, and the first two columns. "
   ]
  }
 ],
 "metadata": {
  "kernelspec": {
   "display_name": "Python 3",
   "language": "python",
   "name": "python3"
  },
  "language_info": {
   "codemirror_mode": {
    "name": "ipython",
    "version": 3
   },
   "file_extension": ".py",
   "mimetype": "text/x-python",
   "name": "python",
   "nbconvert_exporter": "python",
   "pygments_lexer": "ipython3",
   "version": "3.11.4"
  }
 },
 "nbformat": 4,
 "nbformat_minor": 2
}
