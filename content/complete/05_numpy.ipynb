{
 "cells": [
  {
   "cell_type": "markdown",
   "metadata": {},
   "source": [
    "## The numpy library"
   ]
  },
  {
   "cell_type": "markdown",
   "metadata": {},
   "source": [
    "While there are some functions that exist \"natively\" in the Python programming language (like `type()`, `bool()`, `int()`, etc), Python is lacking native versions of many important functions, such as the logarithm, exponential, and square root functions. \n",
    "\n",
    "Fortunately, there exist libraries that can be installed and then added to your version of Python that provide access to many functions. The Numpy library (pronounced \"Num Pie\") is an add-on library that gives us access to many mathematical functions such as the `log()`, `exp()`, and `sqrt()` functions."
   ]
  },
  {
   "cell_type": "markdown",
   "metadata": {},
   "source": [
    "Just like an application on your computer, where you need to first download and install the application before you can use it on your computer, before you can use Python libraries, you need to first download and install them. \n",
    "\n",
    "The way that you will install Python libraries depends on your Python installation. \n",
    "\n",
    "1. To install libraries inside a notebook environment (including Google colab), run the command `!pip install <libraryname>` in a code cell in your notebook.\n",
    "\n",
    "1. To install libraries in a non-notebook Python environment, you the command `pip install <libraryname>` where you replace `<libraryname>` with the name of the library you are trying to download and install. \n",
    "\n",
    "1. To install libraries from the terminal, you need to run the command `python3 -m pip install <libraryname>` in your terminal window.\n",
    "\n",
    "\n",
    "**Downloading libraries requires internet access.**"
   ]
  },
  {
   "cell_type": "markdown",
   "metadata": {},
   "source": [
    "Note that just like you only ever have to download and install an application to your computer *once*, you similarly only need to install each Python library *once*. Thus it is not encouraged to repeatedly run a `pip install` command every time you work on your notebook. "
   ]
  },
  {
   "cell_type": "code",
   "execution_count": 1,
   "metadata": {},
   "outputs": [
    {
     "name": "stdout",
     "output_type": "stream",
     "text": [
      "Requirement already satisfied: numpy in /opt/homebrew/lib/python3.11/site-packages (1.24.2)\n",
      "\n",
      "\u001b[1m[\u001b[0m\u001b[34;49mnotice\u001b[0m\u001b[1;39;49m]\u001b[0m\u001b[39;49m A new release of pip is available: \u001b[0m\u001b[31;49m23.3.1\u001b[0m\u001b[39;49m -> \u001b[0m\u001b[32;49m23.3.2\u001b[0m\n",
      "\u001b[1m[\u001b[0m\u001b[34;49mnotice\u001b[0m\u001b[1;39;49m]\u001b[0m\u001b[39;49m To update, run: \u001b[0m\u001b[32;49m/opt/homebrew/opt/python@3.11/bin/python3.11 -m pip install --upgrade pip\u001b[0m\n"
     ]
    }
   ],
   "source": [
    "# install numpy and then comment out the installation line\n",
    "# !pip install numpy"
   ]
  },
  {
   "cell_type": "markdown",
   "metadata": {},
   "source": [
    "You *don't* need to include this `pip install numpy` code in your notebook.\n",
    "\n",
    "Once you've successfully installed the numpy library once, you can import the library (make its functions available) using the `import <libraryname> as <nickname>` command below. \n",
    "\n",
    "Unlike the `pip install` command, you **do** need to include this `import` line of code in every new `.ipynb` notebook file."
   ]
  },
  {
   "cell_type": "code",
   "execution_count": 2,
   "metadata": {},
   "outputs": [],
   "source": [
    "# import numpy and rename it to np\n",
    "import numpy as np"
   ]
  },
  {
   "cell_type": "markdown",
   "metadata": {},
   "source": [
    "Let's take a look at some of the functions that the numpy library provides.\n",
    "\n",
    "First, let's define a variable `x` that contains the value `2`:"
   ]
  },
  {
   "cell_type": "code",
   "execution_count": 3,
   "metadata": {},
   "outputs": [],
   "source": [
    "# define a variable x and assign it a value of 2\n",
    "x = 2"
   ]
  },
  {
   "cell_type": "code",
   "execution_count": 4,
   "metadata": {},
   "outputs": [
    {
     "data": {
      "text/plain": [
       "2"
      ]
     },
     "execution_count": 4,
     "metadata": {},
     "output_type": "execute_result"
    }
   ],
   "source": [
    "# take a look at x\n",
    "x"
   ]
  },
  {
   "cell_type": "markdown",
   "metadata": {},
   "source": [
    "If we wanted to compute the logarithm of `x`, you might imagine that we would write:"
   ]
  },
  {
   "cell_type": "code",
   "execution_count": 5,
   "metadata": {},
   "outputs": [
    {
     "ename": "NameError",
     "evalue": "name 'log' is not defined",
     "output_type": "error",
     "traceback": [
      "\u001b[0;31m---------------------------------------------------------------------------\u001b[0m",
      "\u001b[0;31mNameError\u001b[0m                                 Traceback (most recent call last)",
      "Cell \u001b[0;32mIn[5], line 2\u001b[0m\n\u001b[1;32m      1\u001b[0m \u001b[38;5;66;03m# try to compute the log of x using the log() function\u001b[39;00m\n\u001b[0;32m----> 2\u001b[0m \u001b[43mlog\u001b[49m(x)\n",
      "\u001b[0;31mNameError\u001b[0m: name 'log' is not defined"
     ]
    }
   ],
   "source": [
    "# try to compute the log of x using the log() function\n",
    "log(x)"
   ]
  },
  {
   "cell_type": "markdown",
   "metadata": {},
   "source": [
    "But, notice that we get an error that essentially says that Python doesn't know what `log()` is. \n",
    "\n",
    "This is because there is no \"native\" function called `log()` (native means it exists in the Python programming language without requiring additional libraries). \n",
    "\n",
    "However, the `numpy` library *does* include a function called `log()`. And we imported the `numpy` library above. So why can't we access the `log()` function from `numpy`? \n",
    "\n",
    "In Python, to access functions that come from imported libraries, you need to extract the function from the library shorthand/nickname using the `library.function()` syntax. So to access the `log()` function from `numpy`, we need to write `np.log()` instead of just `log()`:"
   ]
  },
  {
   "cell_type": "code",
   "execution_count": 6,
   "metadata": {},
   "outputs": [
    {
     "data": {
      "text/plain": [
       "0.6931471805599453"
      ]
     },
     "execution_count": 6,
     "metadata": {},
     "output_type": "execute_result"
    }
   ],
   "source": [
    "# try to compute the log of x using the np.log() function\n",
    "np.log(x)"
   ]
  },
  {
   "cell_type": "markdown",
   "metadata": {},
   "source": [
    "This is also true of the `sqrt()` function that is imported from the `numpy` library:"
   ]
  },
  {
   "cell_type": "code",
   "execution_count": 7,
   "metadata": {},
   "outputs": [
    {
     "data": {
      "text/plain": [
       "1.4142135623730951"
      ]
     },
     "execution_count": 7,
     "metadata": {},
     "output_type": "execute_result"
    }
   ],
   "source": [
    "# compute the square root of x\n",
    "np.sqrt(x)"
   ]
  },
  {
   "cell_type": "markdown",
   "metadata": {},
   "source": [
    "And the `exp()` function:"
   ]
  },
  {
   "cell_type": "code",
   "execution_count": 8,
   "metadata": {},
   "outputs": [
    {
     "data": {
      "text/plain": [
       "7.38905609893065"
      ]
     },
     "execution_count": 8,
     "metadata": {},
     "output_type": "execute_result"
    }
   ],
   "source": [
    "# compute the exponential of 2\n",
    "np.exp(2)"
   ]
  },
  {
   "cell_type": "markdown",
   "metadata": {},
   "source": [
    "### Exercise\n",
    "\n",
    "Compute the sum of the log of 7 and the square root of 8 and exponentiate the result, i.e., $e^{\\log(7) + \\sqrt{8}}$."
   ]
  },
  {
   "cell_type": "code",
   "execution_count": 9,
   "metadata": {},
   "outputs": [
    {
     "data": {
      "text/plain": [
       "118.43180074990526"
      ]
     },
     "execution_count": 9,
     "metadata": {},
     "output_type": "execute_result"
    }
   ],
   "source": [
    "# compute the sum of the log of 7 and the square root of 8 \n",
    "sum_result = np.log(7) + np.sqrt(8)\n",
    "# and exponentiate the result\n",
    "exp_result = np.exp(sum_result)\n",
    "exp_result"
   ]
  }
 ],
 "metadata": {
  "kernelspec": {
   "display_name": "Python 3",
   "language": "python",
   "name": "python3"
  },
  "language_info": {
   "codemirror_mode": {
    "name": "ipython",
    "version": 3
   },
   "file_extension": ".py",
   "mimetype": "text/x-python",
   "name": "python",
   "nbconvert_exporter": "python",
   "pygments_lexer": "ipython3",
   "version": "3.11.4"
  },
  "orig_nbformat": 4
 },
 "nbformat": 4,
 "nbformat_minor": 2
}
