{
 "cells": [
  {
   "cell_type": "markdown",
   "metadata": {},
   "source": [
    "# Summarizing DataFrames\n",
    "\n",
    "This notebook will demonstrate how to apply simple statistical methods, such as the mean, sum, median, standard deviation (for numeric columns), and counts (for categorical columns) to columns in a pandas DataFrame."
   ]
  },
  {
   "cell_type": "code",
   "execution_count": 1,
   "metadata": {},
   "outputs": [],
   "source": [
    "import pandas as pd\n",
    "gapminder = pd.read_csv('https://raw.githubusercontent.com/UofUDELPHI/2024-02-08-python/main/content/complete/data/gapminder.csv')"
   ]
  },
  {
   "cell_type": "markdown",
   "metadata": {},
   "source": [
    "To apply a statistical summary such as the mean to a single column from a DataFrame, you first need to extract the column of interest, e.g., using the `df['col']` syntax, and then apply the relevant method (e.g., `.mean()`) to the resulting Series object.\n"
   ]
  },
  {
   "cell_type": "markdown",
   "metadata": {},
   "source": [
    "\n",
    "### Calculating the mean\n",
    "\n",
    "For example, the code below applies the `.mean()` method to the `lifeExp` column from gapminder:"
   ]
  },
  {
   "cell_type": "code",
   "execution_count": 2,
   "metadata": {},
   "outputs": [
    {
     "data": {
      "text/plain": [
       "59.474439366197174"
      ]
     },
     "execution_count": 2,
     "metadata": {},
     "output_type": "execute_result"
    }
   ],
   "source": [
    "# Use the .mean() method to compute the mean of the lifeExp column\n",
    "gapminder['lifeExp'].mean()"
   ]
  },
  {
   "cell_type": "markdown",
   "metadata": {},
   "source": [
    "Note that `.mean()` is a *method*, rather than a function, so it must be applied using the `x.mean()` syntax, rather than the `mean(x)` syntax (which is how it would be applied if it were a function). The following code gives an error:"
   ]
  },
  {
   "cell_type": "code",
   "execution_count": 3,
   "metadata": {},
   "outputs": [
    {
     "ename": "NameError",
     "evalue": "name 'mean' is not defined",
     "output_type": "error",
     "traceback": [
      "\u001b[0;31m---------------------------------------------------------------------------\u001b[0m",
      "\u001b[0;31mNameError\u001b[0m                                 Traceback (most recent call last)",
      "Cell \u001b[0;32mIn[3], line 2\u001b[0m\n\u001b[1;32m      1\u001b[0m \u001b[38;5;66;03m# Try to use mean() as a function to compute the mean of lifeExp\u001b[39;00m\n\u001b[0;32m----> 2\u001b[0m \u001b[43mmean\u001b[49m(gapminder[\u001b[38;5;124m'\u001b[39m\u001b[38;5;124mlifeExp\u001b[39m\u001b[38;5;124m'\u001b[39m])\n",
      "\u001b[0;31mNameError\u001b[0m: name 'mean' is not defined"
     ]
    }
   ],
   "source": [
    "# Try to use mean() as a function to compute the mean of lifeExp\n",
    "mean(gapminder['lifeExp'])"
   ]
  },
  {
   "cell_type": "markdown",
   "metadata": {},
   "source": [
    "You can apply `.mean()` to multiple columns at once by extracting the relevant columns (e.g., using `df[[]]` or `df.loc[,]`), and then applying `.mean()` to the resulting DataFrame:"
   ]
  },
  {
   "cell_type": "code",
   "execution_count": 4,
   "metadata": {},
   "outputs": [
    {
     "data": {
      "text/plain": [
       "lifeExp        59.474439\n",
       "gdpPercap    7215.327081\n",
       "dtype: float64"
      ]
     },
     "execution_count": 4,
     "metadata": {},
     "output_type": "execute_result"
    }
   ],
   "source": [
    "# use the .mean() method to compute the mean of both the lifeExp and gdpPercap columns simultaneously\n",
    "gapminder[['lifeExp', 'gdpPercap']].mean()"
   ]
  },
  {
   "cell_type": "markdown",
   "metadata": {},
   "source": [
    "Note that the output of the `.mean()` method is *Series*:"
   ]
  },
  {
   "cell_type": "code",
   "execution_count": 5,
   "metadata": {},
   "outputs": [
    {
     "data": {
      "text/plain": [
       "pandas.core.series.Series"
      ]
     },
     "execution_count": 5,
     "metadata": {},
     "output_type": "execute_result"
    }
   ],
   "source": [
    "# Check the type of the result above\n",
    "type(gapminder[['lifeExp', 'gdpPercap']].mean())"
   ]
  },
  {
   "cell_type": "markdown",
   "metadata": {},
   "source": [
    "Since `.mean()` can be applied to multiple columns at once, why is it that applying `.mean()` directly to `gapminder` doesn't work? The following code results in an error:"
   ]
  },
  {
   "cell_type": "code",
   "execution_count": 6,
   "metadata": {},
   "outputs": [
    {
     "ename": "TypeError",
     "evalue": "Could not convert [\"AfghanistanAfghanistanAfghanistanAfghanistanAfghanistanAfghanistanAfghanistanAfghanistanAfghanistanAfghanistanAfghanistanAfghanistanAlbaniaAlbaniaAlbaniaAlbaniaAlbaniaAlbaniaAlbaniaAlbaniaAlbaniaAlbaniaAlbaniaAlbaniaAlgeriaAlgeriaAlgeriaAlgeriaAlgeriaAlgeriaAlgeriaAlgeriaAlgeriaAlgeriaAlgeriaAlgeriaAngolaAngolaAngolaAngolaAngolaAngolaAngolaAngolaAngolaAngolaAngolaAngolaArgentinaArgentinaArgentinaArgentinaArgentinaArgentinaArgentinaArgentinaArgentinaArgentinaArgentinaArgentinaAustraliaAustraliaAustraliaAustraliaAustraliaAustraliaAustraliaAustraliaAustraliaAustraliaAustraliaAustraliaAustriaAustriaAustriaAustriaAustriaAustriaAustriaAustriaAustriaAustriaAustriaAustriaBahrainBahrainBahrainBahrainBahrainBahrainBahrainBahrainBahrainBahrainBahrainBahrainBangladeshBangladeshBangladeshBangladeshBangladeshBangladeshBangladeshBangladeshBangladeshBangladeshBangladeshBangladeshBelgiumBelgiumBelgiumBelgiumBelgiumBelgiumBelgiumBelgiumBelgiumBelgiumBelgiumBelgiumBeninBeninBeninBeninBeninBeninBeninBeninBeninBeninBeninBeninBoliviaBoliviaBoliviaBoliviaBoliviaBoliviaBoliviaBoliviaBoliviaBoliviaBoliviaBoliviaBosnia and HerzegovinaBosnia and HerzegovinaBosnia and HerzegovinaBosnia and HerzegovinaBosnia and HerzegovinaBosnia and HerzegovinaBosnia and HerzegovinaBosnia and HerzegovinaBosnia and HerzegovinaBosnia and HerzegovinaBosnia and HerzegovinaBosnia and HerzegovinaBotswanaBotswanaBotswanaBotswanaBotswanaBotswanaBotswanaBotswanaBotswanaBotswanaBotswanaBotswanaBrazilBrazilBrazilBrazilBrazilBrazilBrazilBrazilBrazilBrazilBrazilBrazilBulgariaBulgariaBulgariaBulgariaBulgariaBulgariaBulgariaBulgariaBulgariaBulgariaBulgariaBulgariaBurkina FasoBurkina FasoBurkina FasoBurkina FasoBurkina FasoBurkina FasoBurkina FasoBurkina FasoBurkina FasoBurkina FasoBurkina FasoBurkina FasoBurundiBurundiBurundiBurundiBurundiBurundiBurundiBurundiBurundiBurundiBurundiBurundiCambodiaCambodiaCambodiaCambodiaCambodiaCambodiaCambodiaCambodiaCambodiaCambodiaCambodiaCambodiaCameroonCameroonCameroonCameroonCameroonCameroonCameroonCameroonCameroonCameroonCameroonCameroonCanadaCanadaCanadaCanadaCanadaCanadaCanadaCanadaCanadaCanadaCanadaCanadaCentral African RepublicCentral African RepublicCentral African RepublicCentral African RepublicCentral African RepublicCentral African RepublicCentral African RepublicCentral African RepublicCentral African RepublicCentral African RepublicCentral African RepublicCentral African RepublicChadChadChadChadChadChadChadChadChadChadChadChadChileChileChileChileChileChileChileChileChileChileChileChileChinaChinaChinaChinaChinaChinaChinaChinaChinaChinaChinaChinaColombiaColombiaColombiaColombiaColombiaColombiaColombiaColombiaColombiaColombiaColombiaColombiaComorosComorosComorosComorosComorosComorosComorosComorosComorosComorosComorosComorosCongo, Dem. Rep.Congo, Dem. Rep.Congo, Dem. Rep.Congo, Dem. Rep.Congo, Dem. Rep.Congo, Dem. Rep.Congo, Dem. Rep.Congo, Dem. Rep.Congo, Dem. Rep.Congo, Dem. Rep.Congo, Dem. Rep.Congo, Dem. Rep.Congo, Rep.Congo, Rep.Congo, Rep.Congo, Rep.Congo, Rep.Congo, Rep.Congo, Rep.Congo, Rep.Congo, Rep.Congo, Rep.Congo, Rep.Congo, Rep.Costa RicaCosta RicaCosta RicaCosta RicaCosta RicaCosta RicaCosta RicaCosta RicaCosta RicaCosta RicaCosta RicaCosta RicaCote d'IvoireCote d'IvoireCote d'IvoireCote d'IvoireCote d'IvoireCote d'IvoireCote d'IvoireCote d'IvoireCote d'IvoireCote d'IvoireCote d'IvoireCote d'IvoireCroatiaCroatiaCroatiaCroatiaCroatiaCroatiaCroatiaCroatiaCroatiaCroatiaCroatiaCroatiaCubaCubaCubaCubaCubaCubaCubaCubaCubaCubaCubaCubaCzech RepublicCzech RepublicCzech RepublicCzech RepublicCzech RepublicCzech RepublicCzech RepublicCzech RepublicCzech RepublicCzech RepublicCzech RepublicCzech RepublicDenmarkDenmarkDenmarkDenmarkDenmarkDenmarkDenmarkDenmarkDenmarkDenmarkDenmarkDenmarkDjiboutiDjiboutiDjiboutiDjiboutiDjiboutiDjiboutiDjiboutiDjiboutiDjiboutiDjiboutiDjiboutiDjiboutiDominican RepublicDominican RepublicDominican RepublicDominican RepublicDominican RepublicDominican RepublicDominican RepublicDominican RepublicDominican RepublicDominican RepublicDominican RepublicDominican RepublicEcuadorEcuadorEcuadorEcuadorEcuadorEcuadorEcuadorEcuadorEcuadorEcuadorEcuadorEcuadorEgyptEgyptEgyptEgyptEgyptEgyptEgyptEgyptEgyptEgyptEgyptEgyptEl SalvadorEl SalvadorEl SalvadorEl SalvadorEl SalvadorEl SalvadorEl SalvadorEl SalvadorEl SalvadorEl SalvadorEl SalvadorEl SalvadorEquatorial GuineaEquatorial GuineaEquatorial GuineaEquatorial GuineaEquatorial GuineaEquatorial GuineaEquatorial GuineaEquatorial GuineaEquatorial GuineaEquatorial GuineaEquatorial GuineaEquatorial GuineaEritreaEritreaEritreaEritreaEritreaEritreaEritreaEritreaEritreaEritreaEritreaEritreaEthiopiaEthiopiaEthiopiaEthiopiaEthiopiaEthiopiaEthiopiaEthiopiaEthiopiaEthiopiaEthiopiaEthiopiaFinlandFinlandFinlandFinlandFinlandFinlandFinlandFinlandFinlandFinlandFinlandFinlandFranceFranceFranceFranceFranceFranceFranceFranceFranceFranceFranceFranceGabonGabonGabonGabonGabonGabonGabonGabonGabonGabonGabonGabonGambiaGambiaGambiaGambiaGambiaGambiaGambiaGambiaGambiaGambiaGambiaGambiaGermanyGermanyGermanyGermanyGermanyGermanyGermanyGermanyGermanyGermanyGermanyGermanyGhanaGhanaGhanaGhanaGhanaGhanaGhanaGhanaGhanaGhanaGhanaGhanaGreeceGreeceGreeceGreeceGreeceGreeceGreeceGreeceGreeceGreeceGreeceGreeceGuatemalaGuatemalaGuatemalaGuatemalaGuatemalaGuatemalaGuatemalaGuatemalaGuatemalaGuatemalaGuatemalaGuatemalaGuineaGuineaGuineaGuineaGuineaGuineaGuineaGuineaGuineaGuineaGuineaGuineaGuinea-BissauGuinea-BissauGuinea-BissauGuinea-BissauGuinea-BissauGuinea-BissauGuinea-BissauGuinea-BissauGuinea-BissauGuinea-BissauGuinea-BissauGuinea-BissauHaitiHaitiHaitiHaitiHaitiHaitiHaitiHaitiHaitiHaitiHaitiHaitiHondurasHondurasHondurasHondurasHondurasHondurasHondurasHondurasHondurasHondurasHondurasHondurasHong Kong, ChinaHong Kong, ChinaHong Kong, ChinaHong Kong, ChinaHong Kong, ChinaHong Kong, ChinaHong Kong, ChinaHong Kong, ChinaHong Kong, ChinaHong Kong, ChinaHong Kong, ChinaHong Kong, ChinaHungaryHungaryHungaryHungaryHungaryHungaryHungaryHungaryHungaryHungaryHungaryHungaryIcelandIcelandIcelandIcelandIcelandIcelandIcelandIcelandIcelandIcelandIcelandIcelandIndiaIndiaIndiaIndiaIndiaIndiaIndiaIndiaIndiaIndiaIndiaIndiaIndonesiaIndonesiaIndonesiaIndonesiaIndonesiaIndonesiaIndonesiaIndonesiaIndonesiaIndonesiaIndonesiaIndonesiaIranIranIranIranIranIranIranIranIranIranIranIranIraqIraqIraqIraqIraqIraqIraqIraqIraqIraqIraqIraqIrelandIrelandIrelandIrelandIrelandIrelandIrelandIrelandIrelandIrelandIrelandIrelandIsraelIsraelIsraelIsraelIsraelIsraelIsraelIsraelIsraelIsraelIsraelIsraelItalyItalyItalyItalyItalyItalyItalyItalyItalyItalyItalyItalyJamaicaJamaicaJamaicaJamaicaJamaicaJamaicaJamaicaJamaicaJamaicaJamaicaJamaicaJamaicaJapanJapanJapanJapanJapanJapanJapanJapanJapanJapanJapanJapanJordanJordanJordanJordanJordanJordanJordanJordanJordanJordanJordanJordanKenyaKenyaKenyaKenyaKenyaKenyaKenyaKenyaKenyaKenyaKenyaKenyaKorea, Dem. Rep.Korea, Dem. Rep.Korea, Dem. Rep.Korea, Dem. Rep.Korea, Dem. Rep.Korea, Dem. Rep.Korea, Dem. Rep.Korea, Dem. Rep.Korea, Dem. Rep.Korea, Dem. Rep.Korea, Dem. Rep.Korea, Dem. Rep.Korea, Rep.Korea, Rep.Korea, Rep.Korea, Rep.Korea, Rep.Korea, Rep.Korea, Rep.Korea, Rep.Korea, Rep.Korea, Rep.Korea, Rep.Korea, Rep.KuwaitKuwaitKuwaitKuwaitKuwaitKuwaitKuwaitKuwaitKuwaitKuwaitKuwaitKuwaitLebanonLebanonLebanonLebanonLebanonLebanonLebanonLebanonLebanonLebanonLebanonLebanonLesothoLesothoLesothoLesothoLesothoLesothoLesothoLesothoLesothoLesothoLesothoLesothoLiberiaLiberiaLiberiaLiberiaLiberiaLiberiaLiberiaLiberiaLiberiaLiberiaLiberiaLiberiaLibyaLibyaLibyaLibyaLibyaLibyaLibyaLibyaLibyaLibyaLibyaLibyaMadagascarMadagascarMadagascarMadagascarMadagascarMadagascarMadagascarMadagascarMadagascarMadagascarMadagascarMadagascarMalawiMalawiMalawiMalawiMalawiMalawiMalawiMalawiMalawiMalawiMalawiMalawiMalaysiaMalaysiaMalaysiaMalaysiaMalaysiaMalaysiaMalaysiaMalaysiaMalaysiaMalaysiaMalaysiaMalaysiaMaliMaliMaliMaliMaliMaliMaliMaliMaliMaliMaliMaliMauritaniaMauritaniaMauritaniaMauritaniaMauritaniaMauritaniaMauritaniaMauritaniaMauritaniaMauritaniaMauritaniaMauritaniaMauritiusMauritiusMauritiusMauritiusMauritiusMauritiusMauritiusMauritiusMauritiusMauritiusMauritiusMauritiusMexicoMexicoMexicoMexicoMexicoMexicoMexicoMexicoMexicoMexicoMexicoMexicoMongoliaMongoliaMongoliaMongoliaMongoliaMongoliaMongoliaMongoliaMongoliaMongoliaMongoliaMongoliaMontenegroMontenegroMontenegroMontenegroMontenegroMontenegroMontenegroMontenegroMontenegroMontenegroMontenegroMontenegroMoroccoMoroccoMoroccoMoroccoMoroccoMoroccoMoroccoMoroccoMoroccoMoroccoMoroccoMoroccoMozambiqueMozambiqueMozambiqueMozambiqueMozambiqueMozambiqueMozambiqueMozambiqueMozambiqueMozambiqueMozambiqueMozambiqueMyanmarMyanmarMyanmarMyanmarMyanmarMyanmarMyanmarMyanmarMyanmarMyanmarMyanmarMyanmarNamibiaNamibiaNamibiaNamibiaNamibiaNamibiaNamibiaNamibiaNamibiaNamibiaNamibiaNamibiaNepalNepalNepalNepalNepalNepalNepalNepalNepalNepalNepalNepalNetherlandsNetherlandsNetherlandsNetherlandsNetherlandsNetherlandsNetherlandsNetherlandsNetherlandsNetherlandsNetherlandsNetherlandsNew ZealandNew ZealandNew ZealandNew ZealandNew ZealandNew ZealandNew ZealandNew ZealandNew ZealandNew ZealandNew ZealandNew ZealandNicaraguaNicaraguaNicaraguaNicaraguaNicaraguaNicaraguaNicaraguaNicaraguaNicaraguaNicaraguaNicaraguaNicaraguaNigerNigerNigerNigerNigerNigerNigerNigerNigerNigerNigerNigerNigeriaNigeriaNigeriaNigeriaNigeriaNigeriaNigeriaNigeriaNigeriaNigeriaNigeriaNigeriaNorwayNorwayNorwayNorwayNorwayNorwayNorwayNorwayNorwayNorwayNorwayNorwayOmanOmanOmanOmanOmanOmanOmanOmanOmanOmanOmanOmanPakistanPakistanPakistanPakistanPakistanPakistanPakistanPakistanPakistanPakistanPakistanPakistanPanamaPanamaPanamaPanamaPanamaPanamaPanamaPanamaPanamaPanamaPanamaPanamaParaguayParaguayParaguayParaguayParaguayParaguayParaguayParaguayParaguayParaguayParaguayParaguayPeruPeruPeruPeruPeruPeruPeruPeruPeruPeruPeruPeruPhilippinesPhilippinesPhilippinesPhilippinesPhilippinesPhilippinesPhilippinesPhilippinesPhilippinesPhilippinesPhilippinesPhilippinesPolandPolandPolandPolandPolandPolandPolandPolandPolandPolandPolandPolandPortugalPortugalPortugalPortugalPortugalPortugalPortugalPortugalPortugalPortugalPortugalPortugalPuerto RicoPuerto RicoPuerto RicoPuerto RicoPuerto RicoPuerto RicoPuerto RicoPuerto RicoPuerto RicoPuerto RicoPuerto RicoPuerto RicoReunionReunionReunionReunionReunionReunionReunionReunionReunionReunionReunionReunionRomaniaRomaniaRomaniaRomaniaRomaniaRomaniaRomaniaRomaniaRomaniaRomaniaRomaniaRomaniaRwandaRwandaRwandaRwandaRwandaRwandaRwandaRwandaRwandaRwandaRwandaRwandaSao Tome and PrincipeSao Tome and PrincipeSao Tome and PrincipeSao Tome and PrincipeSao Tome and PrincipeSao Tome and PrincipeSao Tome and PrincipeSao Tome and PrincipeSao Tome and PrincipeSao Tome and PrincipeSao Tome and PrincipeSao Tome and PrincipeSaudi ArabiaSaudi ArabiaSaudi ArabiaSaudi ArabiaSaudi ArabiaSaudi ArabiaSaudi ArabiaSaudi ArabiaSaudi ArabiaSaudi ArabiaSaudi ArabiaSaudi ArabiaSenegalSenegalSenegalSenegalSenegalSenegalSenegalSenegalSenegalSenegalSenegalSenegalSerbiaSerbiaSerbiaSerbiaSerbiaSerbiaSerbiaSerbiaSerbiaSerbiaSerbiaSerbiaSierra LeoneSierra LeoneSierra LeoneSierra LeoneSierra LeoneSierra LeoneSierra LeoneSierra LeoneSierra LeoneSierra LeoneSierra LeoneSierra LeoneSingaporeSingaporeSingaporeSingaporeSingaporeSingaporeSingaporeSingaporeSingaporeSingaporeSingaporeSingaporeSlovak RepublicSlovak RepublicSlovak RepublicSlovak RepublicSlovak RepublicSlovak RepublicSlovak RepublicSlovak RepublicSlovak RepublicSlovak RepublicSlovak RepublicSlovak RepublicSloveniaSloveniaSloveniaSloveniaSloveniaSloveniaSloveniaSloveniaSloveniaSloveniaSloveniaSloveniaSomaliaSomaliaSomaliaSomaliaSomaliaSomaliaSomaliaSomaliaSomaliaSomaliaSomaliaSomaliaSouth AfricaSouth AfricaSouth AfricaSouth AfricaSouth AfricaSouth AfricaSouth AfricaSouth AfricaSouth AfricaSouth AfricaSouth AfricaSouth AfricaSpainSpainSpainSpainSpainSpainSpainSpainSpainSpainSpainSpainSri LankaSri LankaSri LankaSri LankaSri LankaSri LankaSri LankaSri LankaSri LankaSri LankaSri LankaSri LankaSudanSudanSudanSudanSudanSudanSudanSudanSudanSudanSudanSudanSwazilandSwazilandSwazilandSwazilandSwazilandSwazilandSwazilandSwazilandSwazilandSwazilandSwazilandSwazilandSwedenSwedenSwedenSwedenSwedenSwedenSwedenSwedenSwedenSwedenSwedenSwedenSwitzerlandSwitzerlandSwitzerlandSwitzerlandSwitzerlandSwitzerlandSwitzerlandSwitzerlandSwitzerlandSwitzerlandSwitzerlandSwitzerlandSyriaSyriaSyriaSyriaSyriaSyriaSyriaSyriaSyriaSyriaSyriaSyriaTaiwanTaiwanTaiwanTaiwanTaiwanTaiwanTaiwanTaiwanTaiwanTaiwanTaiwanTaiwanTanzaniaTanzaniaTanzaniaTanzaniaTanzaniaTanzaniaTanzaniaTanzaniaTanzaniaTanzaniaTanzaniaTanzaniaThailandThailandThailandThailandThailandThailandThailandThailandThailandThailandThailandThailandTogoTogoTogoTogoTogoTogoTogoTogoTogoTogoTogoTogoTrinidad and TobagoTrinidad and TobagoTrinidad and TobagoTrinidad and TobagoTrinidad and TobagoTrinidad and TobagoTrinidad and TobagoTrinidad and TobagoTrinidad and TobagoTrinidad and TobagoTrinidad and TobagoTrinidad and TobagoTunisiaTunisiaTunisiaTunisiaTunisiaTunisiaTunisiaTunisiaTunisiaTunisiaTunisiaTunisiaTurkeyTurkeyTurkeyTurkeyTurkeyTurkeyTurkeyTurkeyTurkeyTurkeyTurkeyTurkeyUgandaUgandaUgandaUgandaUgandaUgandaUgandaUgandaUgandaUgandaUgandaUgandaUnited KingdomUnited KingdomUnited KingdomUnited KingdomUnited KingdomUnited KingdomUnited KingdomUnited KingdomUnited KingdomUnited KingdomUnited KingdomUnited KingdomUnited StatesUnited StatesUnited StatesUnited StatesUnited StatesUnited StatesUnited StatesUnited StatesUnited StatesUnited StatesUnited StatesUnited StatesUruguayUruguayUruguayUruguayUruguayUruguayUruguayUruguayUruguayUruguayUruguayUruguayVenezuelaVenezuelaVenezuelaVenezuelaVenezuelaVenezuelaVenezuelaVenezuelaVenezuelaVenezuelaVenezuelaVenezuelaVietnamVietnamVietnamVietnamVietnamVietnamVietnamVietnamVietnamVietnamVietnamVietnamWest Bank and GazaWest Bank and GazaWest Bank and GazaWest Bank and GazaWest Bank and GazaWest Bank and GazaWest Bank and GazaWest Bank and GazaWest Bank and GazaWest Bank and GazaWest Bank and GazaWest Bank and GazaYemen, Rep.Yemen, Rep.Yemen, Rep.Yemen, Rep.Yemen, Rep.Yemen, Rep.Yemen, Rep.Yemen, Rep.Yemen, Rep.Yemen, Rep.Yemen, Rep.Yemen, Rep.ZambiaZambiaZambiaZambiaZambiaZambiaZambiaZambiaZambiaZambiaZambiaZambiaZimbabweZimbabweZimbabweZimbabweZimbabweZimbabweZimbabweZimbabweZimbabweZimbabweZimbabweZimbabwe\"\n 'AsiaAsiaAsiaAsiaAsiaAsiaAsiaAsiaAsiaAsiaAsiaAsiaEuropeEuropeEuropeEuropeEuropeEuropeEuropeEuropeEuropeEuropeEuropeEuropeAfricaAfricaAfricaAfricaAfricaAfricaAfricaAfricaAfricaAfricaAfricaAfricaAfricaAfricaAfricaAfricaAfricaAfricaAfricaAfricaAfricaAfricaAfricaAfricaAmericasAmericasAmericasAmericasAmericasAmericasAmericasAmericasAmericasAmericasAmericasAmericasOceaniaOceaniaOceaniaOceaniaOceaniaOceaniaOceaniaOceaniaOceaniaOceaniaOceaniaOceaniaEuropeEuropeEuropeEuropeEuropeEuropeEuropeEuropeEuropeEuropeEuropeEuropeAsiaAsiaAsiaAsiaAsiaAsiaAsiaAsiaAsiaAsiaAsiaAsiaAsiaAsiaAsiaAsiaAsiaAsiaAsiaAsiaAsiaAsiaAsiaAsiaEuropeEuropeEuropeEuropeEuropeEuropeEuropeEuropeEuropeEuropeEuropeEuropeAfricaAfricaAfricaAfricaAfricaAfricaAfricaAfricaAfricaAfricaAfricaAfricaAmericasAmericasAmericasAmericasAmericasAmericasAmericasAmericasAmericasAmericasAmericasAmericasEuropeEuropeEuropeEuropeEuropeEuropeEuropeEuropeEuropeEuropeEuropeEuropeAfricaAfricaAfricaAfricaAfricaAfricaAfricaAfricaAfricaAfricaAfricaAfricaAmericasAmericasAmericasAmericasAmericasAmericasAmericasAmericasAmericasAmericasAmericasAmericasEuropeEuropeEuropeEuropeEuropeEuropeEuropeEuropeEuropeEuropeEuropeEuropeAfricaAfricaAfricaAfricaAfricaAfricaAfricaAfricaAfricaAfricaAfricaAfricaAfricaAfricaAfricaAfricaAfricaAfricaAfricaAfricaAfricaAfricaAfricaAfricaAsiaAsiaAsiaAsiaAsiaAsiaAsiaAsiaAsiaAsiaAsiaAsiaAfricaAfricaAfricaAfricaAfricaAfricaAfricaAfricaAfricaAfricaAfricaAfricaAmericasAmericasAmericasAmericasAmericasAmericasAmericasAmericasAmericasAmericasAmericasAmericasAfricaAfricaAfricaAfricaAfricaAfricaAfricaAfricaAfricaAfricaAfricaAfricaAfricaAfricaAfricaAfricaAfricaAfricaAfricaAfricaAfricaAfricaAfricaAfricaAmericasAmericasAmericasAmericasAmericasAmericasAmericasAmericasAmericasAmericasAmericasAmericasAsiaAsiaAsiaAsiaAsiaAsiaAsiaAsiaAsiaAsiaAsiaAsiaAmericasAmericasAmericasAmericasAmericasAmericasAmericasAmericasAmericasAmericasAmericasAmericasAfricaAfricaAfricaAfricaAfricaAfricaAfricaAfricaAfricaAfricaAfricaAfricaAfricaAfricaAfricaAfricaAfricaAfricaAfricaAfricaAfricaAfricaAfricaAfricaAfricaAfricaAfricaAfricaAfricaAfricaAfricaAfricaAfricaAfricaAfricaAfricaAmericasAmericasAmericasAmericasAmericasAmericasAmericasAmericasAmericasAmericasAmericasAmericasAfricaAfricaAfricaAfricaAfricaAfricaAfricaAfricaAfricaAfricaAfricaAfricaEuropeEuropeEuropeEuropeEuropeEuropeEuropeEuropeEuropeEuropeEuropeEuropeAmericasAmericasAmericasAmericasAmericasAmericasAmericasAmericasAmericasAmericasAmericasAmericasEuropeEuropeEuropeEuropeEuropeEuropeEuropeEuropeEuropeEuropeEuropeEuropeEuropeEuropeEuropeEuropeEuropeEuropeEuropeEuropeEuropeEuropeEuropeEuropeAfricaAfricaAfricaAfricaAfricaAfricaAfricaAfricaAfricaAfricaAfricaAfricaAmericasAmericasAmericasAmericasAmericasAmericasAmericasAmericasAmericasAmericasAmericasAmericasAmericasAmericasAmericasAmericasAmericasAmericasAmericasAmericasAmericasAmericasAmericasAmericasAfricaAfricaAfricaAfricaAfricaAfricaAfricaAfricaAfricaAfricaAfricaAfricaAmericasAmericasAmericasAmericasAmericasAmericasAmericasAmericasAmericasAmericasAmericasAmericasAfricaAfricaAfricaAfricaAfricaAfricaAfricaAfricaAfricaAfricaAfricaAfricaAfricaAfricaAfricaAfricaAfricaAfricaAfricaAfricaAfricaAfricaAfricaAfricaAfricaAfricaAfricaAfricaAfricaAfricaAfricaAfricaAfricaAfricaAfricaAfricaEuropeEuropeEuropeEuropeEuropeEuropeEuropeEuropeEuropeEuropeEuropeEuropeEuropeEuropeEuropeEuropeEuropeEuropeEuropeEuropeEuropeEuropeEuropeEuropeAfricaAfricaAfricaAfricaAfricaAfricaAfricaAfricaAfricaAfricaAfricaAfricaAfricaAfricaAfricaAfricaAfricaAfricaAfricaAfricaAfricaAfricaAfricaAfricaEuropeEuropeEuropeEuropeEuropeEuropeEuropeEuropeEuropeEuropeEuropeEuropeAfricaAfricaAfricaAfricaAfricaAfricaAfricaAfricaAfricaAfricaAfricaAfricaEuropeEuropeEuropeEuropeEuropeEuropeEuropeEuropeEuropeEuropeEuropeEuropeAmericasAmericasAmericasAmericasAmericasAmericasAmericasAmericasAmericasAmericasAmericasAmericasAfricaAfricaAfricaAfricaAfricaAfricaAfricaAfricaAfricaAfricaAfricaAfricaAfricaAfricaAfricaAfricaAfricaAfricaAfricaAfricaAfricaAfricaAfricaAfricaAmericasAmericasAmericasAmericasAmericasAmericasAmericasAmericasAmericasAmericasAmericasAmericasAmericasAmericasAmericasAmericasAmericasAmericasAmericasAmericasAmericasAmericasAmericasAmericasAsiaAsiaAsiaAsiaAsiaAsiaAsiaAsiaAsiaAsiaAsiaAsiaEuropeEuropeEuropeEuropeEuropeEuropeEuropeEuropeEuropeEuropeEuropeEuropeEuropeEuropeEuropeEuropeEuropeEuropeEuropeEuropeEuropeEuropeEuropeEuropeAsiaAsiaAsiaAsiaAsiaAsiaAsiaAsiaAsiaAsiaAsiaAsiaAsiaAsiaAsiaAsiaAsiaAsiaAsiaAsiaAsiaAsiaAsiaAsiaAsiaAsiaAsiaAsiaAsiaAsiaAsiaAsiaAsiaAsiaAsiaAsiaAsiaAsiaAsiaAsiaAsiaAsiaAsiaAsiaAsiaAsiaAsiaAsiaEuropeEuropeEuropeEuropeEuropeEuropeEuropeEuropeEuropeEuropeEuropeEuropeAsiaAsiaAsiaAsiaAsiaAsiaAsiaAsiaAsiaAsiaAsiaAsiaEuropeEuropeEuropeEuropeEuropeEuropeEuropeEuropeEuropeEuropeEuropeEuropeAmericasAmericasAmericasAmericasAmericasAmericasAmericasAmericasAmericasAmericasAmericasAmericasAsiaAsiaAsiaAsiaAsiaAsiaAsiaAsiaAsiaAsiaAsiaAsiaAsiaAsiaAsiaAsiaAsiaAsiaAsiaAsiaAsiaAsiaAsiaAsiaAfricaAfricaAfricaAfricaAfricaAfricaAfricaAfricaAfricaAfricaAfricaAfricaAsiaAsiaAsiaAsiaAsiaAsiaAsiaAsiaAsiaAsiaAsiaAsiaAsiaAsiaAsiaAsiaAsiaAsiaAsiaAsiaAsiaAsiaAsiaAsiaAsiaAsiaAsiaAsiaAsiaAsiaAsiaAsiaAsiaAsiaAsiaAsiaAsiaAsiaAsiaAsiaAsiaAsiaAsiaAsiaAsiaAsiaAsiaAsiaAfricaAfricaAfricaAfricaAfricaAfricaAfricaAfricaAfricaAfricaAfricaAfricaAfricaAfricaAfricaAfricaAfricaAfricaAfricaAfricaAfricaAfricaAfricaAfricaAfricaAfricaAfricaAfricaAfricaAfricaAfricaAfricaAfricaAfricaAfricaAfricaAfricaAfricaAfricaAfricaAfricaAfricaAfricaAfricaAfricaAfricaAfricaAfricaAfricaAfricaAfricaAfricaAfricaAfricaAfricaAfricaAfricaAfricaAfricaAfricaAsiaAsiaAsiaAsiaAsiaAsiaAsiaAsiaAsiaAsiaAsiaAsiaAfricaAfricaAfricaAfricaAfricaAfricaAfricaAfricaAfricaAfricaAfricaAfricaAfricaAfricaAfricaAfricaAfricaAfricaAfricaAfricaAfricaAfricaAfricaAfricaAfricaAfricaAfricaAfricaAfricaAfricaAfricaAfricaAfricaAfricaAfricaAfricaAmericasAmericasAmericasAmericasAmericasAmericasAmericasAmericasAmericasAmericasAmericasAmericasAsiaAsiaAsiaAsiaAsiaAsiaAsiaAsiaAsiaAsiaAsiaAsiaEuropeEuropeEuropeEuropeEuropeEuropeEuropeEuropeEuropeEuropeEuropeEuropeAfricaAfricaAfricaAfricaAfricaAfricaAfricaAfricaAfricaAfricaAfricaAfricaAfricaAfricaAfricaAfricaAfricaAfricaAfricaAfricaAfricaAfricaAfricaAfricaAsiaAsiaAsiaAsiaAsiaAsiaAsiaAsiaAsiaAsiaAsiaAsiaAfricaAfricaAfricaAfricaAfricaAfricaAfricaAfricaAfricaAfricaAfricaAfricaAsiaAsiaAsiaAsiaAsiaAsiaAsiaAsiaAsiaAsiaAsiaAsiaEuropeEuropeEuropeEuropeEuropeEuropeEuropeEuropeEuropeEuropeEuropeEuropeOceaniaOceaniaOceaniaOceaniaOceaniaOceaniaOceaniaOceaniaOceaniaOceaniaOceaniaOceaniaAmericasAmericasAmericasAmericasAmericasAmericasAmericasAmericasAmericasAmericasAmericasAmericasAfricaAfricaAfricaAfricaAfricaAfricaAfricaAfricaAfricaAfricaAfricaAfricaAfricaAfricaAfricaAfricaAfricaAfricaAfricaAfricaAfricaAfricaAfricaAfricaEuropeEuropeEuropeEuropeEuropeEuropeEuropeEuropeEuropeEuropeEuropeEuropeAsiaAsiaAsiaAsiaAsiaAsiaAsiaAsiaAsiaAsiaAsiaAsiaAsiaAsiaAsiaAsiaAsiaAsiaAsiaAsiaAsiaAsiaAsiaAsiaAmericasAmericasAmericasAmericasAmericasAmericasAmericasAmericasAmericasAmericasAmericasAmericasAmericasAmericasAmericasAmericasAmericasAmericasAmericasAmericasAmericasAmericasAmericasAmericasAmericasAmericasAmericasAmericasAmericasAmericasAmericasAmericasAmericasAmericasAmericasAmericasAsiaAsiaAsiaAsiaAsiaAsiaAsiaAsiaAsiaAsiaAsiaAsiaEuropeEuropeEuropeEuropeEuropeEuropeEuropeEuropeEuropeEuropeEuropeEuropeEuropeEuropeEuropeEuropeEuropeEuropeEuropeEuropeEuropeEuropeEuropeEuropeAmericasAmericasAmericasAmericasAmericasAmericasAmericasAmericasAmericasAmericasAmericasAmericasAfricaAfricaAfricaAfricaAfricaAfricaAfricaAfricaAfricaAfricaAfricaAfricaEuropeEuropeEuropeEuropeEuropeEuropeEuropeEuropeEuropeEuropeEuropeEuropeAfricaAfricaAfricaAfricaAfricaAfricaAfricaAfricaAfricaAfricaAfricaAfricaAfricaAfricaAfricaAfricaAfricaAfricaAfricaAfricaAfricaAfricaAfricaAfricaAsiaAsiaAsiaAsiaAsiaAsiaAsiaAsiaAsiaAsiaAsiaAsiaAfricaAfricaAfricaAfricaAfricaAfricaAfricaAfricaAfricaAfricaAfricaAfricaEuropeEuropeEuropeEuropeEuropeEuropeEuropeEuropeEuropeEuropeEuropeEuropeAfricaAfricaAfricaAfricaAfricaAfricaAfricaAfricaAfricaAfricaAfricaAfricaAsiaAsiaAsiaAsiaAsiaAsiaAsiaAsiaAsiaAsiaAsiaAsiaEuropeEuropeEuropeEuropeEuropeEuropeEuropeEuropeEuropeEuropeEuropeEuropeEuropeEuropeEuropeEuropeEuropeEuropeEuropeEuropeEuropeEuropeEuropeEuropeAfricaAfricaAfricaAfricaAfricaAfricaAfricaAfricaAfricaAfricaAfricaAfricaAfricaAfricaAfricaAfricaAfricaAfricaAfricaAfricaAfricaAfricaAfricaAfricaEuropeEuropeEuropeEuropeEuropeEuropeEuropeEuropeEuropeEuropeEuropeEuropeAsiaAsiaAsiaAsiaAsiaAsiaAsiaAsiaAsiaAsiaAsiaAsiaAfricaAfricaAfricaAfricaAfricaAfricaAfricaAfricaAfricaAfricaAfricaAfricaAfricaAfricaAfricaAfricaAfricaAfricaAfricaAfricaAfricaAfricaAfricaAfricaEuropeEuropeEuropeEuropeEuropeEuropeEuropeEuropeEuropeEuropeEuropeEuropeEuropeEuropeEuropeEuropeEuropeEuropeEuropeEuropeEuropeEuropeEuropeEuropeAsiaAsiaAsiaAsiaAsiaAsiaAsiaAsiaAsiaAsiaAsiaAsiaAsiaAsiaAsiaAsiaAsiaAsiaAsiaAsiaAsiaAsiaAsiaAsiaAfricaAfricaAfricaAfricaAfricaAfricaAfricaAfricaAfricaAfricaAfricaAfricaAsiaAsiaAsiaAsiaAsiaAsiaAsiaAsiaAsiaAsiaAsiaAsiaAfricaAfricaAfricaAfricaAfricaAfricaAfricaAfricaAfricaAfricaAfricaAfricaAmericasAmericasAmericasAmericasAmericasAmericasAmericasAmericasAmericasAmericasAmericasAmericasAfricaAfricaAfricaAfricaAfricaAfricaAfricaAfricaAfricaAfricaAfricaAfricaEuropeEuropeEuropeEuropeEuropeEuropeEuropeEuropeEuropeEuropeEuropeEuropeAfricaAfricaAfricaAfricaAfricaAfricaAfricaAfricaAfricaAfricaAfricaAfricaEuropeEuropeEuropeEuropeEuropeEuropeEuropeEuropeEuropeEuropeEuropeEuropeAmericasAmericasAmericasAmericasAmericasAmericasAmericasAmericasAmericasAmericasAmericasAmericasAmericasAmericasAmericasAmericasAmericasAmericasAmericasAmericasAmericasAmericasAmericasAmericasAmericasAmericasAmericasAmericasAmericasAmericasAmericasAmericasAmericasAmericasAmericasAmericasAsiaAsiaAsiaAsiaAsiaAsiaAsiaAsiaAsiaAsiaAsiaAsiaAsiaAsiaAsiaAsiaAsiaAsiaAsiaAsiaAsiaAsiaAsiaAsiaAsiaAsiaAsiaAsiaAsiaAsiaAsiaAsiaAsiaAsiaAsiaAsiaAfricaAfricaAfricaAfricaAfricaAfricaAfricaAfricaAfricaAfricaAfricaAfricaAfricaAfricaAfricaAfricaAfricaAfricaAfricaAfricaAfricaAfricaAfricaAfrica'] to numeric",
     "output_type": "error",
     "traceback": [
      "\u001b[0;31m---------------------------------------------------------------------------\u001b[0m",
      "\u001b[0;31mTypeError\u001b[0m                                 Traceback (most recent call last)",
      "Cell \u001b[0;32mIn[6], line 2\u001b[0m\n\u001b[1;32m      1\u001b[0m \u001b[38;5;66;03m# what happens when you try to apply the .mean() method to the entire gapminder DataFrame?\u001b[39;00m\n\u001b[0;32m----> 2\u001b[0m \u001b[43mgapminder\u001b[49m\u001b[38;5;241;43m.\u001b[39;49m\u001b[43mmean\u001b[49m\u001b[43m(\u001b[49m\u001b[43m)\u001b[49m\n",
      "File \u001b[0;32m~/Library/Python/3.11/lib/python/site-packages/pandas/core/frame.py:11338\u001b[0m, in \u001b[0;36mDataFrame.mean\u001b[0;34m(self, axis, skipna, numeric_only, **kwargs)\u001b[0m\n\u001b[1;32m  11330\u001b[0m \u001b[38;5;129m@doc\u001b[39m(make_doc(\u001b[38;5;124m\"\u001b[39m\u001b[38;5;124mmean\u001b[39m\u001b[38;5;124m\"\u001b[39m, ndim\u001b[38;5;241m=\u001b[39m\u001b[38;5;241m2\u001b[39m))\n\u001b[1;32m  11331\u001b[0m \u001b[38;5;28;01mdef\u001b[39;00m \u001b[38;5;21mmean\u001b[39m(\n\u001b[1;32m  11332\u001b[0m     \u001b[38;5;28mself\u001b[39m,\n\u001b[0;32m   (...)\u001b[0m\n\u001b[1;32m  11336\u001b[0m     \u001b[38;5;241m*\u001b[39m\u001b[38;5;241m*\u001b[39mkwargs,\n\u001b[1;32m  11337\u001b[0m ):\n\u001b[0;32m> 11338\u001b[0m     result \u001b[38;5;241m=\u001b[39m \u001b[38;5;28;43msuper\u001b[39;49m\u001b[43m(\u001b[49m\u001b[43m)\u001b[49m\u001b[38;5;241;43m.\u001b[39;49m\u001b[43mmean\u001b[49m\u001b[43m(\u001b[49m\u001b[43maxis\u001b[49m\u001b[43m,\u001b[49m\u001b[43m \u001b[49m\u001b[43mskipna\u001b[49m\u001b[43m,\u001b[49m\u001b[43m \u001b[49m\u001b[43mnumeric_only\u001b[49m\u001b[43m,\u001b[49m\u001b[43m \u001b[49m\u001b[38;5;241;43m*\u001b[39;49m\u001b[38;5;241;43m*\u001b[39;49m\u001b[43mkwargs\u001b[49m\u001b[43m)\u001b[49m\n\u001b[1;32m  11339\u001b[0m     \u001b[38;5;28;01mif\u001b[39;00m \u001b[38;5;28misinstance\u001b[39m(result, Series):\n\u001b[1;32m  11340\u001b[0m         result \u001b[38;5;241m=\u001b[39m result\u001b[38;5;241m.\u001b[39m__finalize__(\u001b[38;5;28mself\u001b[39m, method\u001b[38;5;241m=\u001b[39m\u001b[38;5;124m\"\u001b[39m\u001b[38;5;124mmean\u001b[39m\u001b[38;5;124m\"\u001b[39m)\n",
      "File \u001b[0;32m~/Library/Python/3.11/lib/python/site-packages/pandas/core/generic.py:11978\u001b[0m, in \u001b[0;36mNDFrame.mean\u001b[0;34m(self, axis, skipna, numeric_only, **kwargs)\u001b[0m\n\u001b[1;32m  11971\u001b[0m \u001b[38;5;28;01mdef\u001b[39;00m \u001b[38;5;21mmean\u001b[39m(\n\u001b[1;32m  11972\u001b[0m     \u001b[38;5;28mself\u001b[39m,\n\u001b[1;32m  11973\u001b[0m     axis: Axis \u001b[38;5;241m|\u001b[39m \u001b[38;5;28;01mNone\u001b[39;00m \u001b[38;5;241m=\u001b[39m \u001b[38;5;241m0\u001b[39m,\n\u001b[0;32m   (...)\u001b[0m\n\u001b[1;32m  11976\u001b[0m     \u001b[38;5;241m*\u001b[39m\u001b[38;5;241m*\u001b[39mkwargs,\n\u001b[1;32m  11977\u001b[0m ) \u001b[38;5;241m-\u001b[39m\u001b[38;5;241m>\u001b[39m Series \u001b[38;5;241m|\u001b[39m \u001b[38;5;28mfloat\u001b[39m:\n\u001b[0;32m> 11978\u001b[0m     \u001b[38;5;28;01mreturn\u001b[39;00m \u001b[38;5;28;43mself\u001b[39;49m\u001b[38;5;241;43m.\u001b[39;49m\u001b[43m_stat_function\u001b[49m\u001b[43m(\u001b[49m\n\u001b[1;32m  11979\u001b[0m \u001b[43m        \u001b[49m\u001b[38;5;124;43m\"\u001b[39;49m\u001b[38;5;124;43mmean\u001b[39;49m\u001b[38;5;124;43m\"\u001b[39;49m\u001b[43m,\u001b[49m\u001b[43m \u001b[49m\u001b[43mnanops\u001b[49m\u001b[38;5;241;43m.\u001b[39;49m\u001b[43mnanmean\u001b[49m\u001b[43m,\u001b[49m\u001b[43m \u001b[49m\u001b[43maxis\u001b[49m\u001b[43m,\u001b[49m\u001b[43m \u001b[49m\u001b[43mskipna\u001b[49m\u001b[43m,\u001b[49m\u001b[43m \u001b[49m\u001b[43mnumeric_only\u001b[49m\u001b[43m,\u001b[49m\u001b[43m \u001b[49m\u001b[38;5;241;43m*\u001b[39;49m\u001b[38;5;241;43m*\u001b[39;49m\u001b[43mkwargs\u001b[49m\n\u001b[1;32m  11980\u001b[0m \u001b[43m    \u001b[49m\u001b[43m)\u001b[49m\n",
      "File \u001b[0;32m~/Library/Python/3.11/lib/python/site-packages/pandas/core/generic.py:11935\u001b[0m, in \u001b[0;36mNDFrame._stat_function\u001b[0;34m(self, name, func, axis, skipna, numeric_only, **kwargs)\u001b[0m\n\u001b[1;32m  11931\u001b[0m nv\u001b[38;5;241m.\u001b[39mvalidate_func(name, (), kwargs)\n\u001b[1;32m  11933\u001b[0m validate_bool_kwarg(skipna, \u001b[38;5;124m\"\u001b[39m\u001b[38;5;124mskipna\u001b[39m\u001b[38;5;124m\"\u001b[39m, none_allowed\u001b[38;5;241m=\u001b[39m\u001b[38;5;28;01mFalse\u001b[39;00m)\n\u001b[0;32m> 11935\u001b[0m \u001b[38;5;28;01mreturn\u001b[39;00m \u001b[38;5;28;43mself\u001b[39;49m\u001b[38;5;241;43m.\u001b[39;49m\u001b[43m_reduce\u001b[49m\u001b[43m(\u001b[49m\n\u001b[1;32m  11936\u001b[0m \u001b[43m    \u001b[49m\u001b[43mfunc\u001b[49m\u001b[43m,\u001b[49m\u001b[43m \u001b[49m\u001b[43mname\u001b[49m\u001b[38;5;241;43m=\u001b[39;49m\u001b[43mname\u001b[49m\u001b[43m,\u001b[49m\u001b[43m \u001b[49m\u001b[43maxis\u001b[49m\u001b[38;5;241;43m=\u001b[39;49m\u001b[43maxis\u001b[49m\u001b[43m,\u001b[49m\u001b[43m \u001b[49m\u001b[43mskipna\u001b[49m\u001b[38;5;241;43m=\u001b[39;49m\u001b[43mskipna\u001b[49m\u001b[43m,\u001b[49m\u001b[43m \u001b[49m\u001b[43mnumeric_only\u001b[49m\u001b[38;5;241;43m=\u001b[39;49m\u001b[43mnumeric_only\u001b[49m\n\u001b[1;32m  11937\u001b[0m \u001b[43m\u001b[49m\u001b[43m)\u001b[49m\n",
      "File \u001b[0;32m~/Library/Python/3.11/lib/python/site-packages/pandas/core/frame.py:11207\u001b[0m, in \u001b[0;36mDataFrame._reduce\u001b[0;34m(self, op, name, axis, skipna, numeric_only, filter_type, **kwds)\u001b[0m\n\u001b[1;32m  11203\u001b[0m     df \u001b[38;5;241m=\u001b[39m df\u001b[38;5;241m.\u001b[39mT\n\u001b[1;32m  11205\u001b[0m \u001b[38;5;66;03m# After possibly _get_data and transposing, we are now in the\u001b[39;00m\n\u001b[1;32m  11206\u001b[0m \u001b[38;5;66;03m#  simple case where we can use BlockManager.reduce\u001b[39;00m\n\u001b[0;32m> 11207\u001b[0m res \u001b[38;5;241m=\u001b[39m \u001b[43mdf\u001b[49m\u001b[38;5;241;43m.\u001b[39;49m\u001b[43m_mgr\u001b[49m\u001b[38;5;241;43m.\u001b[39;49m\u001b[43mreduce\u001b[49m\u001b[43m(\u001b[49m\u001b[43mblk_func\u001b[49m\u001b[43m)\u001b[49m\n\u001b[1;32m  11208\u001b[0m out \u001b[38;5;241m=\u001b[39m df\u001b[38;5;241m.\u001b[39m_constructor_from_mgr(res, axes\u001b[38;5;241m=\u001b[39mres\u001b[38;5;241m.\u001b[39maxes)\u001b[38;5;241m.\u001b[39miloc[\u001b[38;5;241m0\u001b[39m]\n\u001b[1;32m  11209\u001b[0m \u001b[38;5;28;01mif\u001b[39;00m out_dtype \u001b[38;5;129;01mis\u001b[39;00m \u001b[38;5;129;01mnot\u001b[39;00m \u001b[38;5;28;01mNone\u001b[39;00m \u001b[38;5;129;01mand\u001b[39;00m out\u001b[38;5;241m.\u001b[39mdtype \u001b[38;5;241m!=\u001b[39m \u001b[38;5;124m\"\u001b[39m\u001b[38;5;124mboolean\u001b[39m\u001b[38;5;124m\"\u001b[39m:\n",
      "File \u001b[0;32m~/Library/Python/3.11/lib/python/site-packages/pandas/core/internals/managers.py:1459\u001b[0m, in \u001b[0;36mBlockManager.reduce\u001b[0;34m(self, func)\u001b[0m\n\u001b[1;32m   1457\u001b[0m res_blocks: \u001b[38;5;28mlist\u001b[39m[Block] \u001b[38;5;241m=\u001b[39m []\n\u001b[1;32m   1458\u001b[0m \u001b[38;5;28;01mfor\u001b[39;00m blk \u001b[38;5;129;01min\u001b[39;00m \u001b[38;5;28mself\u001b[39m\u001b[38;5;241m.\u001b[39mblocks:\n\u001b[0;32m-> 1459\u001b[0m     nbs \u001b[38;5;241m=\u001b[39m \u001b[43mblk\u001b[49m\u001b[38;5;241;43m.\u001b[39;49m\u001b[43mreduce\u001b[49m\u001b[43m(\u001b[49m\u001b[43mfunc\u001b[49m\u001b[43m)\u001b[49m\n\u001b[1;32m   1460\u001b[0m     res_blocks\u001b[38;5;241m.\u001b[39mextend(nbs)\n\u001b[1;32m   1462\u001b[0m index \u001b[38;5;241m=\u001b[39m Index([\u001b[38;5;28;01mNone\u001b[39;00m])  \u001b[38;5;66;03m# placeholder\u001b[39;00m\n",
      "File \u001b[0;32m~/Library/Python/3.11/lib/python/site-packages/pandas/core/internals/blocks.py:377\u001b[0m, in \u001b[0;36mBlock.reduce\u001b[0;34m(self, func)\u001b[0m\n\u001b[1;32m    371\u001b[0m \u001b[38;5;129m@final\u001b[39m\n\u001b[1;32m    372\u001b[0m \u001b[38;5;28;01mdef\u001b[39;00m \u001b[38;5;21mreduce\u001b[39m(\u001b[38;5;28mself\u001b[39m, func) \u001b[38;5;241m-\u001b[39m\u001b[38;5;241m>\u001b[39m \u001b[38;5;28mlist\u001b[39m[Block]:\n\u001b[1;32m    373\u001b[0m     \u001b[38;5;66;03m# We will apply the function and reshape the result into a single-row\u001b[39;00m\n\u001b[1;32m    374\u001b[0m     \u001b[38;5;66;03m#  Block with the same mgr_locs; squeezing will be done at a higher level\u001b[39;00m\n\u001b[1;32m    375\u001b[0m     \u001b[38;5;28;01massert\u001b[39;00m \u001b[38;5;28mself\u001b[39m\u001b[38;5;241m.\u001b[39mndim \u001b[38;5;241m==\u001b[39m \u001b[38;5;241m2\u001b[39m\n\u001b[0;32m--> 377\u001b[0m     result \u001b[38;5;241m=\u001b[39m \u001b[43mfunc\u001b[49m\u001b[43m(\u001b[49m\u001b[38;5;28;43mself\u001b[39;49m\u001b[38;5;241;43m.\u001b[39;49m\u001b[43mvalues\u001b[49m\u001b[43m)\u001b[49m\n\u001b[1;32m    379\u001b[0m     \u001b[38;5;28;01mif\u001b[39;00m \u001b[38;5;28mself\u001b[39m\u001b[38;5;241m.\u001b[39mvalues\u001b[38;5;241m.\u001b[39mndim \u001b[38;5;241m==\u001b[39m \u001b[38;5;241m1\u001b[39m:\n\u001b[1;32m    380\u001b[0m         res_values \u001b[38;5;241m=\u001b[39m result\n",
      "File \u001b[0;32m~/Library/Python/3.11/lib/python/site-packages/pandas/core/frame.py:11139\u001b[0m, in \u001b[0;36mDataFrame._reduce.<locals>.blk_func\u001b[0;34m(values, axis)\u001b[0m\n\u001b[1;32m  11137\u001b[0m         \u001b[38;5;28;01mreturn\u001b[39;00m np\u001b[38;5;241m.\u001b[39marray([result])\n\u001b[1;32m  11138\u001b[0m \u001b[38;5;28;01melse\u001b[39;00m:\n\u001b[0;32m> 11139\u001b[0m     \u001b[38;5;28;01mreturn\u001b[39;00m \u001b[43mop\u001b[49m\u001b[43m(\u001b[49m\u001b[43mvalues\u001b[49m\u001b[43m,\u001b[49m\u001b[43m \u001b[49m\u001b[43maxis\u001b[49m\u001b[38;5;241;43m=\u001b[39;49m\u001b[43maxis\u001b[49m\u001b[43m,\u001b[49m\u001b[43m \u001b[49m\u001b[43mskipna\u001b[49m\u001b[38;5;241;43m=\u001b[39;49m\u001b[43mskipna\u001b[49m\u001b[43m,\u001b[49m\u001b[43m \u001b[49m\u001b[38;5;241;43m*\u001b[39;49m\u001b[38;5;241;43m*\u001b[39;49m\u001b[43mkwds\u001b[49m\u001b[43m)\u001b[49m\n",
      "File \u001b[0;32m~/Library/Python/3.11/lib/python/site-packages/pandas/core/nanops.py:147\u001b[0m, in \u001b[0;36mbottleneck_switch.__call__.<locals>.f\u001b[0;34m(values, axis, skipna, **kwds)\u001b[0m\n\u001b[1;32m    145\u001b[0m         result \u001b[38;5;241m=\u001b[39m alt(values, axis\u001b[38;5;241m=\u001b[39maxis, skipna\u001b[38;5;241m=\u001b[39mskipna, \u001b[38;5;241m*\u001b[39m\u001b[38;5;241m*\u001b[39mkwds)\n\u001b[1;32m    146\u001b[0m \u001b[38;5;28;01melse\u001b[39;00m:\n\u001b[0;32m--> 147\u001b[0m     result \u001b[38;5;241m=\u001b[39m \u001b[43malt\u001b[49m\u001b[43m(\u001b[49m\u001b[43mvalues\u001b[49m\u001b[43m,\u001b[49m\u001b[43m \u001b[49m\u001b[43maxis\u001b[49m\u001b[38;5;241;43m=\u001b[39;49m\u001b[43maxis\u001b[49m\u001b[43m,\u001b[49m\u001b[43m \u001b[49m\u001b[43mskipna\u001b[49m\u001b[38;5;241;43m=\u001b[39;49m\u001b[43mskipna\u001b[49m\u001b[43m,\u001b[49m\u001b[43m \u001b[49m\u001b[38;5;241;43m*\u001b[39;49m\u001b[38;5;241;43m*\u001b[39;49m\u001b[43mkwds\u001b[49m\u001b[43m)\u001b[49m\n\u001b[1;32m    149\u001b[0m \u001b[38;5;28;01mreturn\u001b[39;00m result\n",
      "File \u001b[0;32m~/Library/Python/3.11/lib/python/site-packages/pandas/core/nanops.py:404\u001b[0m, in \u001b[0;36m_datetimelike_compat.<locals>.new_func\u001b[0;34m(values, axis, skipna, mask, **kwargs)\u001b[0m\n\u001b[1;32m    401\u001b[0m \u001b[38;5;28;01mif\u001b[39;00m datetimelike \u001b[38;5;129;01mand\u001b[39;00m mask \u001b[38;5;129;01mis\u001b[39;00m \u001b[38;5;28;01mNone\u001b[39;00m:\n\u001b[1;32m    402\u001b[0m     mask \u001b[38;5;241m=\u001b[39m isna(values)\n\u001b[0;32m--> 404\u001b[0m result \u001b[38;5;241m=\u001b[39m \u001b[43mfunc\u001b[49m\u001b[43m(\u001b[49m\u001b[43mvalues\u001b[49m\u001b[43m,\u001b[49m\u001b[43m \u001b[49m\u001b[43maxis\u001b[49m\u001b[38;5;241;43m=\u001b[39;49m\u001b[43maxis\u001b[49m\u001b[43m,\u001b[49m\u001b[43m \u001b[49m\u001b[43mskipna\u001b[49m\u001b[38;5;241;43m=\u001b[39;49m\u001b[43mskipna\u001b[49m\u001b[43m,\u001b[49m\u001b[43m \u001b[49m\u001b[43mmask\u001b[49m\u001b[38;5;241;43m=\u001b[39;49m\u001b[43mmask\u001b[49m\u001b[43m,\u001b[49m\u001b[43m \u001b[49m\u001b[38;5;241;43m*\u001b[39;49m\u001b[38;5;241;43m*\u001b[39;49m\u001b[43mkwargs\u001b[49m\u001b[43m)\u001b[49m\n\u001b[1;32m    406\u001b[0m \u001b[38;5;28;01mif\u001b[39;00m datetimelike:\n\u001b[1;32m    407\u001b[0m     result \u001b[38;5;241m=\u001b[39m _wrap_results(result, orig_values\u001b[38;5;241m.\u001b[39mdtype, fill_value\u001b[38;5;241m=\u001b[39miNaT)\n",
      "File \u001b[0;32m~/Library/Python/3.11/lib/python/site-packages/pandas/core/nanops.py:720\u001b[0m, in \u001b[0;36mnanmean\u001b[0;34m(values, axis, skipna, mask)\u001b[0m\n\u001b[1;32m    718\u001b[0m count \u001b[38;5;241m=\u001b[39m _get_counts(values\u001b[38;5;241m.\u001b[39mshape, mask, axis, dtype\u001b[38;5;241m=\u001b[39mdtype_count)\n\u001b[1;32m    719\u001b[0m the_sum \u001b[38;5;241m=\u001b[39m values\u001b[38;5;241m.\u001b[39msum(axis, dtype\u001b[38;5;241m=\u001b[39mdtype_sum)\n\u001b[0;32m--> 720\u001b[0m the_sum \u001b[38;5;241m=\u001b[39m \u001b[43m_ensure_numeric\u001b[49m\u001b[43m(\u001b[49m\u001b[43mthe_sum\u001b[49m\u001b[43m)\u001b[49m\n\u001b[1;32m    722\u001b[0m \u001b[38;5;28;01mif\u001b[39;00m axis \u001b[38;5;129;01mis\u001b[39;00m \u001b[38;5;129;01mnot\u001b[39;00m \u001b[38;5;28;01mNone\u001b[39;00m \u001b[38;5;129;01mand\u001b[39;00m \u001b[38;5;28mgetattr\u001b[39m(the_sum, \u001b[38;5;124m\"\u001b[39m\u001b[38;5;124mndim\u001b[39m\u001b[38;5;124m\"\u001b[39m, \u001b[38;5;28;01mFalse\u001b[39;00m):\n\u001b[1;32m    723\u001b[0m     count \u001b[38;5;241m=\u001b[39m cast(np\u001b[38;5;241m.\u001b[39mndarray, count)\n",
      "File \u001b[0;32m~/Library/Python/3.11/lib/python/site-packages/pandas/core/nanops.py:1678\u001b[0m, in \u001b[0;36m_ensure_numeric\u001b[0;34m(x)\u001b[0m\n\u001b[1;32m   1675\u001b[0m inferred \u001b[38;5;241m=\u001b[39m lib\u001b[38;5;241m.\u001b[39minfer_dtype(x)\n\u001b[1;32m   1676\u001b[0m \u001b[38;5;28;01mif\u001b[39;00m inferred \u001b[38;5;129;01min\u001b[39;00m [\u001b[38;5;124m\"\u001b[39m\u001b[38;5;124mstring\u001b[39m\u001b[38;5;124m\"\u001b[39m, \u001b[38;5;124m\"\u001b[39m\u001b[38;5;124mmixed\u001b[39m\u001b[38;5;124m\"\u001b[39m]:\n\u001b[1;32m   1677\u001b[0m     \u001b[38;5;66;03m# GH#44008, GH#36703 avoid casting e.g. strings to numeric\u001b[39;00m\n\u001b[0;32m-> 1678\u001b[0m     \u001b[38;5;28;01mraise\u001b[39;00m \u001b[38;5;167;01mTypeError\u001b[39;00m(\u001b[38;5;124mf\u001b[39m\u001b[38;5;124m\"\u001b[39m\u001b[38;5;124mCould not convert \u001b[39m\u001b[38;5;132;01m{\u001b[39;00mx\u001b[38;5;132;01m}\u001b[39;00m\u001b[38;5;124m to numeric\u001b[39m\u001b[38;5;124m\"\u001b[39m)\n\u001b[1;32m   1679\u001b[0m \u001b[38;5;28;01mtry\u001b[39;00m:\n\u001b[1;32m   1680\u001b[0m     x \u001b[38;5;241m=\u001b[39m x\u001b[38;5;241m.\u001b[39mastype(np\u001b[38;5;241m.\u001b[39mcomplex128)\n",
      "\u001b[0;31mTypeError\u001b[0m: Could not convert [\"AfghanistanAfghanistanAfghanistanAfghanistanAfghanistanAfghanistanAfghanistanAfghanistanAfghanistanAfghanistanAfghanistanAfghanistanAlbaniaAlbaniaAlbaniaAlbaniaAlbaniaAlbaniaAlbaniaAlbaniaAlbaniaAlbaniaAlbaniaAlbaniaAlgeriaAlgeriaAlgeriaAlgeriaAlgeriaAlgeriaAlgeriaAlgeriaAlgeriaAlgeriaAlgeriaAlgeriaAngolaAngolaAngolaAngolaAngolaAngolaAngolaAngolaAngolaAngolaAngolaAngolaArgentinaArgentinaArgentinaArgentinaArgentinaArgentinaArgentinaArgentinaArgentinaArgentinaArgentinaArgentinaAustraliaAustraliaAustraliaAustraliaAustraliaAustraliaAustraliaAustraliaAustraliaAustraliaAustraliaAustraliaAustriaAustriaAustriaAustriaAustriaAustriaAustriaAustriaAustriaAustriaAustriaAustriaBahrainBahrainBahrainBahrainBahrainBahrainBahrainBahrainBahrainBahrainBahrainBahrainBangladeshBangladeshBangladeshBangladeshBangladeshBangladeshBangladeshBangladeshBangladeshBangladeshBangladeshBangladeshBelgiumBelgiumBelgiumBelgiumBelgiumBelgiumBelgiumBelgiumBelgiumBelgiumBelgiumBelgiumBeninBeninBeninBeninBeninBeninBeninBeninBeninBeninBeninBeninBoliviaBoliviaBoliviaBoliviaBoliviaBoliviaBoliviaBoliviaBoliviaBoliviaBoliviaBoliviaBosnia and HerzegovinaBosnia and HerzegovinaBosnia and HerzegovinaBosnia and HerzegovinaBosnia and HerzegovinaBosnia and HerzegovinaBosnia and HerzegovinaBosnia and HerzegovinaBosnia and HerzegovinaBosnia and HerzegovinaBosnia and HerzegovinaBosnia and HerzegovinaBotswanaBotswanaBotswanaBotswanaBotswanaBotswanaBotswanaBotswanaBotswanaBotswanaBotswanaBotswanaBrazilBrazilBrazilBrazilBrazilBrazilBrazilBrazilBrazilBrazilBrazilBrazilBulgariaBulgariaBulgariaBulgariaBulgariaBulgariaBulgariaBulgariaBulgariaBulgariaBulgariaBulgariaBurkina FasoBurkina FasoBurkina FasoBurkina FasoBurkina FasoBurkina FasoBurkina FasoBurkina FasoBurkina FasoBurkina FasoBurkina FasoBurkina FasoBurundiBurundiBurundiBurundiBurundiBurundiBurundiBurundiBurundiBurundiBurundiBurundiCambodiaCambodiaCambodiaCambodiaCambodiaCambodiaCambodiaCambodiaCambodiaCambodiaCambodiaCambodiaCameroonCameroonCameroonCameroonCameroonCameroonCameroonCameroonCameroonCameroonCameroonCameroonCanadaCanadaCanadaCanadaCanadaCanadaCanadaCanadaCanadaCanadaCanadaCanadaCentral African RepublicCentral African RepublicCentral African RepublicCentral African RepublicCentral African RepublicCentral African RepublicCentral African RepublicCentral African RepublicCentral African RepublicCentral African RepublicCentral African RepublicCentral African RepublicChadChadChadChadChadChadChadChadChadChadChadChadChileChileChileChileChileChileChileChileChileChileChileChileChinaChinaChinaChinaChinaChinaChinaChinaChinaChinaChinaChinaColombiaColombiaColombiaColombiaColombiaColombiaColombiaColombiaColombiaColombiaColombiaColombiaComorosComorosComorosComorosComorosComorosComorosComorosComorosComorosComorosComorosCongo, Dem. Rep.Congo, Dem. Rep.Congo, Dem. Rep.Congo, Dem. Rep.Congo, Dem. Rep.Congo, Dem. Rep.Congo, Dem. Rep.Congo, Dem. Rep.Congo, Dem. Rep.Congo, Dem. Rep.Congo, Dem. Rep.Congo, Dem. Rep.Congo, Rep.Congo, Rep.Congo, Rep.Congo, Rep.Congo, Rep.Congo, Rep.Congo, Rep.Congo, Rep.Congo, Rep.Congo, Rep.Congo, Rep.Congo, Rep.Costa RicaCosta RicaCosta RicaCosta RicaCosta RicaCosta RicaCosta RicaCosta RicaCosta RicaCosta RicaCosta RicaCosta RicaCote d'IvoireCote d'IvoireCote d'IvoireCote d'IvoireCote d'IvoireCote d'IvoireCote d'IvoireCote d'IvoireCote d'IvoireCote d'IvoireCote d'IvoireCote d'IvoireCroatiaCroatiaCroatiaCroatiaCroatiaCroatiaCroatiaCroatiaCroatiaCroatiaCroatiaCroatiaCubaCubaCubaCubaCubaCubaCubaCubaCubaCubaCubaCubaCzech RepublicCzech RepublicCzech RepublicCzech RepublicCzech RepublicCzech RepublicCzech RepublicCzech RepublicCzech RepublicCzech RepublicCzech RepublicCzech RepublicDenmarkDenmarkDenmarkDenmarkDenmarkDenmarkDenmarkDenmarkDenmarkDenmarkDenmarkDenmarkDjiboutiDjiboutiDjiboutiDjiboutiDjiboutiDjiboutiDjiboutiDjiboutiDjiboutiDjiboutiDjiboutiDjiboutiDominican RepublicDominican RepublicDominican RepublicDominican RepublicDominican RepublicDominican RepublicDominican RepublicDominican RepublicDominican RepublicDominican RepublicDominican RepublicDominican RepublicEcuadorEcuadorEcuadorEcuadorEcuadorEcuadorEcuadorEcuadorEcuadorEcuadorEcuadorEcuadorEgyptEgyptEgyptEgyptEgyptEgyptEgyptEgyptEgyptEgyptEgyptEgyptEl SalvadorEl SalvadorEl SalvadorEl SalvadorEl SalvadorEl SalvadorEl SalvadorEl SalvadorEl SalvadorEl SalvadorEl SalvadorEl SalvadorEquatorial GuineaEquatorial GuineaEquatorial GuineaEquatorial GuineaEquatorial GuineaEquatorial GuineaEquatorial GuineaEquatorial GuineaEquatorial GuineaEquatorial GuineaEquatorial GuineaEquatorial GuineaEritreaEritreaEritreaEritreaEritreaEritreaEritreaEritreaEritreaEritreaEritreaEritreaEthiopiaEthiopiaEthiopiaEthiopiaEthiopiaEthiopiaEthiopiaEthiopiaEthiopiaEthiopiaEthiopiaEthiopiaFinlandFinlandFinlandFinlandFinlandFinlandFinlandFinlandFinlandFinlandFinlandFinlandFranceFranceFranceFranceFranceFranceFranceFranceFranceFranceFranceFranceGabonGabonGabonGabonGabonGabonGabonGabonGabonGabonGabonGabonGambiaGambiaGambiaGambiaGambiaGambiaGambiaGambiaGambiaGambiaGambiaGambiaGermanyGermanyGermanyGermanyGermanyGermanyGermanyGermanyGermanyGermanyGermanyGermanyGhanaGhanaGhanaGhanaGhanaGhanaGhanaGhanaGhanaGhanaGhanaGhanaGreeceGreeceGreeceGreeceGreeceGreeceGreeceGreeceGreeceGreeceGreeceGreeceGuatemalaGuatemalaGuatemalaGuatemalaGuatemalaGuatemalaGuatemalaGuatemalaGuatemalaGuatemalaGuatemalaGuatemalaGuineaGuineaGuineaGuineaGuineaGuineaGuineaGuineaGuineaGuineaGuineaGuineaGuinea-BissauGuinea-BissauGuinea-BissauGuinea-BissauGuinea-BissauGuinea-BissauGuinea-BissauGuinea-BissauGuinea-BissauGuinea-BissauGuinea-BissauGuinea-BissauHaitiHaitiHaitiHaitiHaitiHaitiHaitiHaitiHaitiHaitiHaitiHaitiHondurasHondurasHondurasHondurasHondurasHondurasHondurasHondurasHondurasHondurasHondurasHondurasHong Kong, ChinaHong Kong, ChinaHong Kong, ChinaHong Kong, ChinaHong Kong, ChinaHong Kong, ChinaHong Kong, ChinaHong Kong, ChinaHong Kong, ChinaHong Kong, ChinaHong Kong, ChinaHong Kong, ChinaHungaryHungaryHungaryHungaryHungaryHungaryHungaryHungaryHungaryHungaryHungaryHungaryIcelandIcelandIcelandIcelandIcelandIcelandIcelandIcelandIcelandIcelandIcelandIcelandIndiaIndiaIndiaIndiaIndiaIndiaIndiaIndiaIndiaIndiaIndiaIndiaIndonesiaIndonesiaIndonesiaIndonesiaIndonesiaIndonesiaIndonesiaIndonesiaIndonesiaIndonesiaIndonesiaIndonesiaIranIranIranIranIranIranIranIranIranIranIranIranIraqIraqIraqIraqIraqIraqIraqIraqIraqIraqIraqIraqIrelandIrelandIrelandIrelandIrelandIrelandIrelandIrelandIrelandIrelandIrelandIrelandIsraelIsraelIsraelIsraelIsraelIsraelIsraelIsraelIsraelIsraelIsraelIsraelItalyItalyItalyItalyItalyItalyItalyItalyItalyItalyItalyItalyJamaicaJamaicaJamaicaJamaicaJamaicaJamaicaJamaicaJamaicaJamaicaJamaicaJamaicaJamaicaJapanJapanJapanJapanJapanJapanJapanJapanJapanJapanJapanJapanJordanJordanJordanJordanJordanJordanJordanJordanJordanJordanJordanJordanKenyaKenyaKenyaKenyaKenyaKenyaKenyaKenyaKenyaKenyaKenyaKenyaKorea, Dem. Rep.Korea, Dem. Rep.Korea, Dem. Rep.Korea, Dem. Rep.Korea, Dem. Rep.Korea, Dem. Rep.Korea, Dem. Rep.Korea, Dem. Rep.Korea, Dem. Rep.Korea, Dem. Rep.Korea, Dem. Rep.Korea, Dem. Rep.Korea, Rep.Korea, Rep.Korea, Rep.Korea, Rep.Korea, Rep.Korea, Rep.Korea, Rep.Korea, Rep.Korea, Rep.Korea, Rep.Korea, Rep.Korea, Rep.KuwaitKuwaitKuwaitKuwaitKuwaitKuwaitKuwaitKuwaitKuwaitKuwaitKuwaitKuwaitLebanonLebanonLebanonLebanonLebanonLebanonLebanonLebanonLebanonLebanonLebanonLebanonLesothoLesothoLesothoLesothoLesothoLesothoLesothoLesothoLesothoLesothoLesothoLesothoLiberiaLiberiaLiberiaLiberiaLiberiaLiberiaLiberiaLiberiaLiberiaLiberiaLiberiaLiberiaLibyaLibyaLibyaLibyaLibyaLibyaLibyaLibyaLibyaLibyaLibyaLibyaMadagascarMadagascarMadagascarMadagascarMadagascarMadagascarMadagascarMadagascarMadagascarMadagascarMadagascarMadagascarMalawiMalawiMalawiMalawiMalawiMalawiMalawiMalawiMalawiMalawiMalawiMalawiMalaysiaMalaysiaMalaysiaMalaysiaMalaysiaMalaysiaMalaysiaMalaysiaMalaysiaMalaysiaMalaysiaMalaysiaMaliMaliMaliMaliMaliMaliMaliMaliMaliMaliMaliMaliMauritaniaMauritaniaMauritaniaMauritaniaMauritaniaMauritaniaMauritaniaMauritaniaMauritaniaMauritaniaMauritaniaMauritaniaMauritiusMauritiusMauritiusMauritiusMauritiusMauritiusMauritiusMauritiusMauritiusMauritiusMauritiusMauritiusMexicoMexicoMexicoMexicoMexicoMexicoMexicoMexicoMexicoMexicoMexicoMexicoMongoliaMongoliaMongoliaMongoliaMongoliaMongoliaMongoliaMongoliaMongoliaMongoliaMongoliaMongoliaMontenegroMontenegroMontenegroMontenegroMontenegroMontenegroMontenegroMontenegroMontenegroMontenegroMontenegroMontenegroMoroccoMoroccoMoroccoMoroccoMoroccoMoroccoMoroccoMoroccoMoroccoMoroccoMoroccoMoroccoMozambiqueMozambiqueMozambiqueMozambiqueMozambiqueMozambiqueMozambiqueMozambiqueMozambiqueMozambiqueMozambiqueMozambiqueMyanmarMyanmarMyanmarMyanmarMyanmarMyanmarMyanmarMyanmarMyanmarMyanmarMyanmarMyanmarNamibiaNamibiaNamibiaNamibiaNamibiaNamibiaNamibiaNamibiaNamibiaNamibiaNamibiaNamibiaNepalNepalNepalNepalNepalNepalNepalNepalNepalNepalNepalNepalNetherlandsNetherlandsNetherlandsNetherlandsNetherlandsNetherlandsNetherlandsNetherlandsNetherlandsNetherlandsNetherlandsNetherlandsNew ZealandNew ZealandNew ZealandNew ZealandNew ZealandNew ZealandNew ZealandNew ZealandNew ZealandNew ZealandNew ZealandNew ZealandNicaraguaNicaraguaNicaraguaNicaraguaNicaraguaNicaraguaNicaraguaNicaraguaNicaraguaNicaraguaNicaraguaNicaraguaNigerNigerNigerNigerNigerNigerNigerNigerNigerNigerNigerNigerNigeriaNigeriaNigeriaNigeriaNigeriaNigeriaNigeriaNigeriaNigeriaNigeriaNigeriaNigeriaNorwayNorwayNorwayNorwayNorwayNorwayNorwayNorwayNorwayNorwayNorwayNorwayOmanOmanOmanOmanOmanOmanOmanOmanOmanOmanOmanOmanPakistanPakistanPakistanPakistanPakistanPakistanPakistanPakistanPakistanPakistanPakistanPakistanPanamaPanamaPanamaPanamaPanamaPanamaPanamaPanamaPanamaPanamaPanamaPanamaParaguayParaguayParaguayParaguayParaguayParaguayParaguayParaguayParaguayParaguayParaguayParaguayPeruPeruPeruPeruPeruPeruPeruPeruPeruPeruPeruPeruPhilippinesPhilippinesPhilippinesPhilippinesPhilippinesPhilippinesPhilippinesPhilippinesPhilippinesPhilippinesPhilippinesPhilippinesPolandPolandPolandPolandPolandPolandPolandPolandPolandPolandPolandPolandPortugalPortugalPortugalPortugalPortugalPortugalPortugalPortugalPortugalPortugalPortugalPortugalPuerto RicoPuerto RicoPuerto RicoPuerto RicoPuerto RicoPuerto RicoPuerto RicoPuerto RicoPuerto RicoPuerto RicoPuerto RicoPuerto RicoReunionReunionReunionReunionReunionReunionReunionReunionReunionReunionReunionReunionRomaniaRomaniaRomaniaRomaniaRomaniaRomaniaRomaniaRomaniaRomaniaRomaniaRomaniaRomaniaRwandaRwandaRwandaRwandaRwandaRwandaRwandaRwandaRwandaRwandaRwandaRwandaSao Tome and PrincipeSao Tome and PrincipeSao Tome and PrincipeSao Tome and PrincipeSao Tome and PrincipeSao Tome and PrincipeSao Tome and PrincipeSao Tome and PrincipeSao Tome and PrincipeSao Tome and PrincipeSao Tome and PrincipeSao Tome and PrincipeSaudi ArabiaSaudi ArabiaSaudi ArabiaSaudi ArabiaSaudi ArabiaSaudi ArabiaSaudi ArabiaSaudi ArabiaSaudi ArabiaSaudi ArabiaSaudi ArabiaSaudi ArabiaSenegalSenegalSenegalSenegalSenegalSenegalSenegalSenegalSenegalSenegalSenegalSenegalSerbiaSerbiaSerbiaSerbiaSerbiaSerbiaSerbiaSerbiaSerbiaSerbiaSerbiaSerbiaSierra LeoneSierra LeoneSierra LeoneSierra LeoneSierra LeoneSierra LeoneSierra LeoneSierra LeoneSierra LeoneSierra LeoneSierra LeoneSierra LeoneSingaporeSingaporeSingaporeSingaporeSingaporeSingaporeSingaporeSingaporeSingaporeSingaporeSingaporeSingaporeSlovak RepublicSlovak RepublicSlovak RepublicSlovak RepublicSlovak RepublicSlovak RepublicSlovak RepublicSlovak RepublicSlovak RepublicSlovak RepublicSlovak RepublicSlovak RepublicSloveniaSloveniaSloveniaSloveniaSloveniaSloveniaSloveniaSloveniaSloveniaSloveniaSloveniaSloveniaSomaliaSomaliaSomaliaSomaliaSomaliaSomaliaSomaliaSomaliaSomaliaSomaliaSomaliaSomaliaSouth AfricaSouth AfricaSouth AfricaSouth AfricaSouth AfricaSouth AfricaSouth AfricaSouth AfricaSouth AfricaSouth AfricaSouth AfricaSouth AfricaSpainSpainSpainSpainSpainSpainSpainSpainSpainSpainSpainSpainSri LankaSri LankaSri LankaSri LankaSri LankaSri LankaSri LankaSri LankaSri LankaSri LankaSri LankaSri LankaSudanSudanSudanSudanSudanSudanSudanSudanSudanSudanSudanSudanSwazilandSwazilandSwazilandSwazilandSwazilandSwazilandSwazilandSwazilandSwazilandSwazilandSwazilandSwazilandSwedenSwedenSwedenSwedenSwedenSwedenSwedenSwedenSwedenSwedenSwedenSwedenSwitzerlandSwitzerlandSwitzerlandSwitzerlandSwitzerlandSwitzerlandSwitzerlandSwitzerlandSwitzerlandSwitzerlandSwitzerlandSwitzerlandSyriaSyriaSyriaSyriaSyriaSyriaSyriaSyriaSyriaSyriaSyriaSyriaTaiwanTaiwanTaiwanTaiwanTaiwanTaiwanTaiwanTaiwanTaiwanTaiwanTaiwanTaiwanTanzaniaTanzaniaTanzaniaTanzaniaTanzaniaTanzaniaTanzaniaTanzaniaTanzaniaTanzaniaTanzaniaTanzaniaThailandThailandThailandThailandThailandThailandThailandThailandThailandThailandThailandThailandTogoTogoTogoTogoTogoTogoTogoTogoTogoTogoTogoTogoTrinidad and TobagoTrinidad and TobagoTrinidad and TobagoTrinidad and TobagoTrinidad and TobagoTrinidad and TobagoTrinidad and TobagoTrinidad and TobagoTrinidad and TobagoTrinidad and TobagoTrinidad and TobagoTrinidad and TobagoTunisiaTunisiaTunisiaTunisiaTunisiaTunisiaTunisiaTunisiaTunisiaTunisiaTunisiaTunisiaTurkeyTurkeyTurkeyTurkeyTurkeyTurkeyTurkeyTurkeyTurkeyTurkeyTurkeyTurkeyUgandaUgandaUgandaUgandaUgandaUgandaUgandaUgandaUgandaUgandaUgandaUgandaUnited KingdomUnited KingdomUnited KingdomUnited KingdomUnited KingdomUnited KingdomUnited KingdomUnited KingdomUnited KingdomUnited KingdomUnited KingdomUnited KingdomUnited StatesUnited StatesUnited StatesUnited StatesUnited StatesUnited StatesUnited StatesUnited StatesUnited StatesUnited StatesUnited StatesUnited StatesUruguayUruguayUruguayUruguayUruguayUruguayUruguayUruguayUruguayUruguayUruguayUruguayVenezuelaVenezuelaVenezuelaVenezuelaVenezuelaVenezuelaVenezuelaVenezuelaVenezuelaVenezuelaVenezuelaVenezuelaVietnamVietnamVietnamVietnamVietnamVietnamVietnamVietnamVietnamVietnamVietnamVietnamWest Bank and GazaWest Bank and GazaWest Bank and GazaWest Bank and GazaWest Bank and GazaWest Bank and GazaWest Bank and GazaWest Bank and GazaWest Bank and GazaWest Bank and GazaWest Bank and GazaWest Bank and GazaYemen, Rep.Yemen, Rep.Yemen, Rep.Yemen, Rep.Yemen, Rep.Yemen, Rep.Yemen, Rep.Yemen, Rep.Yemen, Rep.Yemen, Rep.Yemen, Rep.Yemen, Rep.ZambiaZambiaZambiaZambiaZambiaZambiaZambiaZambiaZambiaZambiaZambiaZambiaZimbabweZimbabweZimbabweZimbabweZimbabweZimbabweZimbabweZimbabweZimbabweZimbabweZimbabweZimbabwe\"\n 'AsiaAsiaAsiaAsiaAsiaAsiaAsiaAsiaAsiaAsiaAsiaAsiaEuropeEuropeEuropeEuropeEuropeEuropeEuropeEuropeEuropeEuropeEuropeEuropeAfricaAfricaAfricaAfricaAfricaAfricaAfricaAfricaAfricaAfricaAfricaAfricaAfricaAfricaAfricaAfricaAfricaAfricaAfricaAfricaAfricaAfricaAfricaAfricaAmericasAmericasAmericasAmericasAmericasAmericasAmericasAmericasAmericasAmericasAmericasAmericasOceaniaOceaniaOceaniaOceaniaOceaniaOceaniaOceaniaOceaniaOceaniaOceaniaOceaniaOceaniaEuropeEuropeEuropeEuropeEuropeEuropeEuropeEuropeEuropeEuropeEuropeEuropeAsiaAsiaAsiaAsiaAsiaAsiaAsiaAsiaAsiaAsiaAsiaAsiaAsiaAsiaAsiaAsiaAsiaAsiaAsiaAsiaAsiaAsiaAsiaAsiaEuropeEuropeEuropeEuropeEuropeEuropeEuropeEuropeEuropeEuropeEuropeEuropeAfricaAfricaAfricaAfricaAfricaAfricaAfricaAfricaAfricaAfricaAfricaAfricaAmericasAmericasAmericasAmericasAmericasAmericasAmericasAmericasAmericasAmericasAmericasAmericasEuropeEuropeEuropeEuropeEuropeEuropeEuropeEuropeEuropeEuropeEuropeEuropeAfricaAfricaAfricaAfricaAfricaAfricaAfricaAfricaAfricaAfricaAfricaAfricaAmericasAmericasAmericasAmericasAmericasAmericasAmericasAmericasAmericasAmericasAmericasAmericasEuropeEuropeEuropeEuropeEuropeEuropeEuropeEuropeEuropeEuropeEuropeEuropeAfricaAfricaAfricaAfricaAfricaAfricaAfricaAfricaAfricaAfricaAfricaAfricaAfricaAfricaAfricaAfricaAfricaAfricaAfricaAfricaAfricaAfricaAfricaAfricaAsiaAsiaAsiaAsiaAsiaAsiaAsiaAsiaAsiaAsiaAsiaAsiaAfricaAfricaAfricaAfricaAfricaAfricaAfricaAfricaAfricaAfricaAfricaAfricaAmericasAmericasAmericasAmericasAmericasAmericasAmericasAmericasAmericasAmericasAmericasAmericasAfricaAfricaAfricaAfricaAfricaAfricaAfricaAfricaAfricaAfricaAfricaAfricaAfricaAfricaAfricaAfricaAfricaAfricaAfricaAfricaAfricaAfricaAfricaAfricaAmericasAmericasAmericasAmericasAmericasAmericasAmericasAmericasAmericasAmericasAmericasAmericasAsiaAsiaAsiaAsiaAsiaAsiaAsiaAsiaAsiaAsiaAsiaAsiaAmericasAmericasAmericasAmericasAmericasAmericasAmericasAmericasAmericasAmericasAmericasAmericasAfricaAfricaAfricaAfricaAfricaAfricaAfricaAfricaAfricaAfricaAfricaAfricaAfricaAfricaAfricaAfricaAfricaAfricaAfricaAfricaAfricaAfricaAfricaAfricaAfricaAfricaAfricaAfricaAfricaAfricaAfricaAfricaAfricaAfricaAfricaAfricaAmericasAmericasAmericasAmericasAmericasAmericasAmericasAmericasAmericasAmericasAmericasAmericasAfricaAfricaAfricaAfricaAfricaAfricaAfricaAfricaAfricaAfricaAfricaAfricaEuropeEuropeEuropeEuropeEuropeEuropeEuropeEuropeEuropeEuropeEuropeEuropeAmericasAmericasAmericasAmericasAmericasAmericasAmericasAmericasAmericasAmericasAmericasAmericasEuropeEuropeEuropeEuropeEuropeEuropeEuropeEuropeEuropeEuropeEuropeEuropeEuropeEuropeEuropeEuropeEuropeEuropeEuropeEuropeEuropeEuropeEuropeEuropeAfricaAfricaAfricaAfricaAfricaAfricaAfricaAfricaAfricaAfricaAfricaAfricaAmericasAmericasAmericasAmericasAmericasAmericasAmericasAmericasAmericasAmericasAmericasAmericasAmericasAmericasAmericasAmericasAmericasAmericasAmericasAmericasAmericasAmericasAmericasAmericasAfricaAfricaAfricaAfricaAfricaAfricaAfricaAfricaAfricaAfricaAfricaAfricaAmericasAmericasAmericasAmericasAmericasAmericasAmericasAmericasAmericasAmericasAmericasAmericasAfricaAfricaAfricaAfricaAfricaAfricaAfricaAfricaAfricaAfricaAfricaAfricaAfricaAfricaAfricaAfricaAfricaAfricaAfricaAfricaAfricaAfricaAfricaAfricaAfricaAfricaAfricaAfricaAfricaAfricaAfricaAfricaAfricaAfricaAfricaAfricaEuropeEuropeEuropeEuropeEuropeEuropeEuropeEuropeEuropeEuropeEuropeEuropeEuropeEuropeEuropeEuropeEuropeEuropeEuropeEuropeEuropeEuropeEuropeEuropeAfricaAfricaAfricaAfricaAfricaAfricaAfricaAfricaAfricaAfricaAfricaAfricaAfricaAfricaAfricaAfricaAfricaAfricaAfricaAfricaAfricaAfricaAfricaAfricaEuropeEuropeEuropeEuropeEuropeEuropeEuropeEuropeEuropeEuropeEuropeEuropeAfricaAfricaAfricaAfricaAfricaAfricaAfricaAfricaAfricaAfricaAfricaAfricaEuropeEuropeEuropeEuropeEuropeEuropeEuropeEuropeEuropeEuropeEuropeEuropeAmericasAmericasAmericasAmericasAmericasAmericasAmericasAmericasAmericasAmericasAmericasAmericasAfricaAfricaAfricaAfricaAfricaAfricaAfricaAfricaAfricaAfricaAfricaAfricaAfricaAfricaAfricaAfricaAfricaAfricaAfricaAfricaAfricaAfricaAfricaAfricaAmericasAmericasAmericasAmericasAmericasAmericasAmericasAmericasAmericasAmericasAmericasAmericasAmericasAmericasAmericasAmericasAmericasAmericasAmericasAmericasAmericasAmericasAmericasAmericasAsiaAsiaAsiaAsiaAsiaAsiaAsiaAsiaAsiaAsiaAsiaAsiaEuropeEuropeEuropeEuropeEuropeEuropeEuropeEuropeEuropeEuropeEuropeEuropeEuropeEuropeEuropeEuropeEuropeEuropeEuropeEuropeEuropeEuropeEuropeEuropeAsiaAsiaAsiaAsiaAsiaAsiaAsiaAsiaAsiaAsiaAsiaAsiaAsiaAsiaAsiaAsiaAsiaAsiaAsiaAsiaAsiaAsiaAsiaAsiaAsiaAsiaAsiaAsiaAsiaAsiaAsiaAsiaAsiaAsiaAsiaAsiaAsiaAsiaAsiaAsiaAsiaAsiaAsiaAsiaAsiaAsiaAsiaAsiaEuropeEuropeEuropeEuropeEuropeEuropeEuropeEuropeEuropeEuropeEuropeEuropeAsiaAsiaAsiaAsiaAsiaAsiaAsiaAsiaAsiaAsiaAsiaAsiaEuropeEuropeEuropeEuropeEuropeEuropeEuropeEuropeEuropeEuropeEuropeEuropeAmericasAmericasAmericasAmericasAmericasAmericasAmericasAmericasAmericasAmericasAmericasAmericasAsiaAsiaAsiaAsiaAsiaAsiaAsiaAsiaAsiaAsiaAsiaAsiaAsiaAsiaAsiaAsiaAsiaAsiaAsiaAsiaAsiaAsiaAsiaAsiaAfricaAfricaAfricaAfricaAfricaAfricaAfricaAfricaAfricaAfricaAfricaAfricaAsiaAsiaAsiaAsiaAsiaAsiaAsiaAsiaAsiaAsiaAsiaAsiaAsiaAsiaAsiaAsiaAsiaAsiaAsiaAsiaAsiaAsiaAsiaAsiaAsiaAsiaAsiaAsiaAsiaAsiaAsiaAsiaAsiaAsiaAsiaAsiaAsiaAsiaAsiaAsiaAsiaAsiaAsiaAsiaAsiaAsiaAsiaAsiaAfricaAfricaAfricaAfricaAfricaAfricaAfricaAfricaAfricaAfricaAfricaAfricaAfricaAfricaAfricaAfricaAfricaAfricaAfricaAfricaAfricaAfricaAfricaAfricaAfricaAfricaAfricaAfricaAfricaAfricaAfricaAfricaAfricaAfricaAfricaAfricaAfricaAfricaAfricaAfricaAfricaAfricaAfricaAfricaAfricaAfricaAfricaAfricaAfricaAfricaAfricaAfricaAfricaAfricaAfricaAfricaAfricaAfricaAfricaAfricaAsiaAsiaAsiaAsiaAsiaAsiaAsiaAsiaAsiaAsiaAsiaAsiaAfricaAfricaAfricaAfricaAfricaAfricaAfricaAfricaAfricaAfricaAfricaAfricaAfricaAfricaAfricaAfricaAfricaAfricaAfricaAfricaAfricaAfricaAfricaAfricaAfricaAfricaAfricaAfricaAfricaAfricaAfricaAfricaAfricaAfricaAfricaAfricaAmericasAmericasAmericasAmericasAmericasAmericasAmericasAmericasAmericasAmericasAmericasAmericasAsiaAsiaAsiaAsiaAsiaAsiaAsiaAsiaAsiaAsiaAsiaAsiaEuropeEuropeEuropeEuropeEuropeEuropeEuropeEuropeEuropeEuropeEuropeEuropeAfricaAfricaAfricaAfricaAfricaAfricaAfricaAfricaAfricaAfricaAfricaAfricaAfricaAfricaAfricaAfricaAfricaAfricaAfricaAfricaAfricaAfricaAfricaAfricaAsiaAsiaAsiaAsiaAsiaAsiaAsiaAsiaAsiaAsiaAsiaAsiaAfricaAfricaAfricaAfricaAfricaAfricaAfricaAfricaAfricaAfricaAfricaAfricaAsiaAsiaAsiaAsiaAsiaAsiaAsiaAsiaAsiaAsiaAsiaAsiaEuropeEuropeEuropeEuropeEuropeEuropeEuropeEuropeEuropeEuropeEuropeEuropeOceaniaOceaniaOceaniaOceaniaOceaniaOceaniaOceaniaOceaniaOceaniaOceaniaOceaniaOceaniaAmericasAmericasAmericasAmericasAmericasAmericasAmericasAmericasAmericasAmericasAmericasAmericasAfricaAfricaAfricaAfricaAfricaAfricaAfricaAfricaAfricaAfricaAfricaAfricaAfricaAfricaAfricaAfricaAfricaAfricaAfricaAfricaAfricaAfricaAfricaAfricaEuropeEuropeEuropeEuropeEuropeEuropeEuropeEuropeEuropeEuropeEuropeEuropeAsiaAsiaAsiaAsiaAsiaAsiaAsiaAsiaAsiaAsiaAsiaAsiaAsiaAsiaAsiaAsiaAsiaAsiaAsiaAsiaAsiaAsiaAsiaAsiaAmericasAmericasAmericasAmericasAmericasAmericasAmericasAmericasAmericasAmericasAmericasAmericasAmericasAmericasAmericasAmericasAmericasAmericasAmericasAmericasAmericasAmericasAmericasAmericasAmericasAmericasAmericasAmericasAmericasAmericasAmericasAmericasAmericasAmericasAmericasAmericasAsiaAsiaAsiaAsiaAsiaAsiaAsiaAsiaAsiaAsiaAsiaAsiaEuropeEuropeEuropeEuropeEuropeEuropeEuropeEuropeEuropeEuropeEuropeEuropeEuropeEuropeEuropeEuropeEuropeEuropeEuropeEuropeEuropeEuropeEuropeEuropeAmericasAmericasAmericasAmericasAmericasAmericasAmericasAmericasAmericasAmericasAmericasAmericasAfricaAfricaAfricaAfricaAfricaAfricaAfricaAfricaAfricaAfricaAfricaAfricaEuropeEuropeEuropeEuropeEuropeEuropeEuropeEuropeEuropeEuropeEuropeEuropeAfricaAfricaAfricaAfricaAfricaAfricaAfricaAfricaAfricaAfricaAfricaAfricaAfricaAfricaAfricaAfricaAfricaAfricaAfricaAfricaAfricaAfricaAfricaAfricaAsiaAsiaAsiaAsiaAsiaAsiaAsiaAsiaAsiaAsiaAsiaAsiaAfricaAfricaAfricaAfricaAfricaAfricaAfricaAfricaAfricaAfricaAfricaAfricaEuropeEuropeEuropeEuropeEuropeEuropeEuropeEuropeEuropeEuropeEuropeEuropeAfricaAfricaAfricaAfricaAfricaAfricaAfricaAfricaAfricaAfricaAfricaAfricaAsiaAsiaAsiaAsiaAsiaAsiaAsiaAsiaAsiaAsiaAsiaAsiaEuropeEuropeEuropeEuropeEuropeEuropeEuropeEuropeEuropeEuropeEuropeEuropeEuropeEuropeEuropeEuropeEuropeEuropeEuropeEuropeEuropeEuropeEuropeEuropeAfricaAfricaAfricaAfricaAfricaAfricaAfricaAfricaAfricaAfricaAfricaAfricaAfricaAfricaAfricaAfricaAfricaAfricaAfricaAfricaAfricaAfricaAfricaAfricaEuropeEuropeEuropeEuropeEuropeEuropeEuropeEuropeEuropeEuropeEuropeEuropeAsiaAsiaAsiaAsiaAsiaAsiaAsiaAsiaAsiaAsiaAsiaAsiaAfricaAfricaAfricaAfricaAfricaAfricaAfricaAfricaAfricaAfricaAfricaAfricaAfricaAfricaAfricaAfricaAfricaAfricaAfricaAfricaAfricaAfricaAfricaAfricaEuropeEuropeEuropeEuropeEuropeEuropeEuropeEuropeEuropeEuropeEuropeEuropeEuropeEuropeEuropeEuropeEuropeEuropeEuropeEuropeEuropeEuropeEuropeEuropeAsiaAsiaAsiaAsiaAsiaAsiaAsiaAsiaAsiaAsiaAsiaAsiaAsiaAsiaAsiaAsiaAsiaAsiaAsiaAsiaAsiaAsiaAsiaAsiaAfricaAfricaAfricaAfricaAfricaAfricaAfricaAfricaAfricaAfricaAfricaAfricaAsiaAsiaAsiaAsiaAsiaAsiaAsiaAsiaAsiaAsiaAsiaAsiaAfricaAfricaAfricaAfricaAfricaAfricaAfricaAfricaAfricaAfricaAfricaAfricaAmericasAmericasAmericasAmericasAmericasAmericasAmericasAmericasAmericasAmericasAmericasAmericasAfricaAfricaAfricaAfricaAfricaAfricaAfricaAfricaAfricaAfricaAfricaAfricaEuropeEuropeEuropeEuropeEuropeEuropeEuropeEuropeEuropeEuropeEuropeEuropeAfricaAfricaAfricaAfricaAfricaAfricaAfricaAfricaAfricaAfricaAfricaAfricaEuropeEuropeEuropeEuropeEuropeEuropeEuropeEuropeEuropeEuropeEuropeEuropeAmericasAmericasAmericasAmericasAmericasAmericasAmericasAmericasAmericasAmericasAmericasAmericasAmericasAmericasAmericasAmericasAmericasAmericasAmericasAmericasAmericasAmericasAmericasAmericasAmericasAmericasAmericasAmericasAmericasAmericasAmericasAmericasAmericasAmericasAmericasAmericasAsiaAsiaAsiaAsiaAsiaAsiaAsiaAsiaAsiaAsiaAsiaAsiaAsiaAsiaAsiaAsiaAsiaAsiaAsiaAsiaAsiaAsiaAsiaAsiaAsiaAsiaAsiaAsiaAsiaAsiaAsiaAsiaAsiaAsiaAsiaAsiaAfricaAfricaAfricaAfricaAfricaAfricaAfricaAfricaAfricaAfricaAfricaAfricaAfricaAfricaAfricaAfricaAfricaAfricaAfricaAfricaAfricaAfricaAfricaAfrica'] to numeric"
     ]
    }
   ],
   "source": [
    "# what happens when you try to apply the .mean() method to the entire gapminder DataFrame?\n",
    "gapminder.mean()"
   ]
  },
  {
   "cell_type": "markdown",
   "metadata": {},
   "source": [
    "The reason is that the `country` and `continent` columns of gapminder are not numeric, and you can't compute the mean of non-numeric columns:"
   ]
  },
  {
   "cell_type": "code",
   "execution_count": 7,
   "metadata": {},
   "outputs": [
    {
     "data": {
      "text/html": [
       "<div>\n",
       "<style scoped>\n",
       "    .dataframe tbody tr th:only-of-type {\n",
       "        vertical-align: middle;\n",
       "    }\n",
       "\n",
       "    .dataframe tbody tr th {\n",
       "        vertical-align: top;\n",
       "    }\n",
       "\n",
       "    .dataframe thead th {\n",
       "        text-align: right;\n",
       "    }\n",
       "</style>\n",
       "<table border=\"1\" class=\"dataframe\">\n",
       "  <thead>\n",
       "    <tr style=\"text-align: right;\">\n",
       "      <th></th>\n",
       "      <th>country</th>\n",
       "      <th>continent</th>\n",
       "      <th>year</th>\n",
       "      <th>lifeExp</th>\n",
       "      <th>pop</th>\n",
       "      <th>gdpPercap</th>\n",
       "    </tr>\n",
       "  </thead>\n",
       "  <tbody>\n",
       "    <tr>\n",
       "      <th>0</th>\n",
       "      <td>Afghanistan</td>\n",
       "      <td>Asia</td>\n",
       "      <td>1952</td>\n",
       "      <td>28.801</td>\n",
       "      <td>8425333</td>\n",
       "      <td>779.445314</td>\n",
       "    </tr>\n",
       "    <tr>\n",
       "      <th>1</th>\n",
       "      <td>Afghanistan</td>\n",
       "      <td>Asia</td>\n",
       "      <td>1957</td>\n",
       "      <td>30.332</td>\n",
       "      <td>9240934</td>\n",
       "      <td>820.853030</td>\n",
       "    </tr>\n",
       "    <tr>\n",
       "      <th>2</th>\n",
       "      <td>Afghanistan</td>\n",
       "      <td>Asia</td>\n",
       "      <td>1962</td>\n",
       "      <td>31.997</td>\n",
       "      <td>10267083</td>\n",
       "      <td>853.100710</td>\n",
       "    </tr>\n",
       "    <tr>\n",
       "      <th>3</th>\n",
       "      <td>Afghanistan</td>\n",
       "      <td>Asia</td>\n",
       "      <td>1967</td>\n",
       "      <td>34.020</td>\n",
       "      <td>11537966</td>\n",
       "      <td>836.197138</td>\n",
       "    </tr>\n",
       "    <tr>\n",
       "      <th>4</th>\n",
       "      <td>Afghanistan</td>\n",
       "      <td>Asia</td>\n",
       "      <td>1972</td>\n",
       "      <td>36.088</td>\n",
       "      <td>13079460</td>\n",
       "      <td>739.981106</td>\n",
       "    </tr>\n",
       "    <tr>\n",
       "      <th>...</th>\n",
       "      <td>...</td>\n",
       "      <td>...</td>\n",
       "      <td>...</td>\n",
       "      <td>...</td>\n",
       "      <td>...</td>\n",
       "      <td>...</td>\n",
       "    </tr>\n",
       "    <tr>\n",
       "      <th>1699</th>\n",
       "      <td>Zimbabwe</td>\n",
       "      <td>Africa</td>\n",
       "      <td>1987</td>\n",
       "      <td>62.351</td>\n",
       "      <td>9216418</td>\n",
       "      <td>706.157306</td>\n",
       "    </tr>\n",
       "    <tr>\n",
       "      <th>1700</th>\n",
       "      <td>Zimbabwe</td>\n",
       "      <td>Africa</td>\n",
       "      <td>1992</td>\n",
       "      <td>60.377</td>\n",
       "      <td>10704340</td>\n",
       "      <td>693.420786</td>\n",
       "    </tr>\n",
       "    <tr>\n",
       "      <th>1701</th>\n",
       "      <td>Zimbabwe</td>\n",
       "      <td>Africa</td>\n",
       "      <td>1997</td>\n",
       "      <td>46.809</td>\n",
       "      <td>11404948</td>\n",
       "      <td>792.449960</td>\n",
       "    </tr>\n",
       "    <tr>\n",
       "      <th>1702</th>\n",
       "      <td>Zimbabwe</td>\n",
       "      <td>Africa</td>\n",
       "      <td>2002</td>\n",
       "      <td>39.989</td>\n",
       "      <td>11926563</td>\n",
       "      <td>672.038623</td>\n",
       "    </tr>\n",
       "    <tr>\n",
       "      <th>1703</th>\n",
       "      <td>Zimbabwe</td>\n",
       "      <td>Africa</td>\n",
       "      <td>2007</td>\n",
       "      <td>43.487</td>\n",
       "      <td>12311143</td>\n",
       "      <td>469.709298</td>\n",
       "    </tr>\n",
       "  </tbody>\n",
       "</table>\n",
       "<p>1704 rows × 6 columns</p>\n",
       "</div>"
      ],
      "text/plain": [
       "          country continent  year  lifeExp       pop   gdpPercap\n",
       "0     Afghanistan      Asia  1952   28.801   8425333  779.445314\n",
       "1     Afghanistan      Asia  1957   30.332   9240934  820.853030\n",
       "2     Afghanistan      Asia  1962   31.997  10267083  853.100710\n",
       "3     Afghanistan      Asia  1967   34.020  11537966  836.197138\n",
       "4     Afghanistan      Asia  1972   36.088  13079460  739.981106\n",
       "...           ...       ...   ...      ...       ...         ...\n",
       "1699     Zimbabwe    Africa  1987   62.351   9216418  706.157306\n",
       "1700     Zimbabwe    Africa  1992   60.377  10704340  693.420786\n",
       "1701     Zimbabwe    Africa  1997   46.809  11404948  792.449960\n",
       "1702     Zimbabwe    Africa  2002   39.989  11926563  672.038623\n",
       "1703     Zimbabwe    Africa  2007   43.487  12311143  469.709298\n",
       "\n",
       "[1704 rows x 6 columns]"
      ]
     },
     "execution_count": 7,
     "metadata": {},
     "output_type": "execute_result"
    }
   ],
   "source": [
    "# show gapminder\n",
    "gapminder"
   ]
  },
  {
   "cell_type": "markdown",
   "metadata": {},
   "source": [
    "### Extracting columns of a particular type\n",
    "\n",
    "Fortunately, you can extract all of the numeric columns of gapminder using the `.select_dtypes()` method, and then apply the `.mean()` method to the resulting DataFrame:"
   ]
  },
  {
   "cell_type": "code",
   "execution_count": 8,
   "metadata": {},
   "outputs": [
    {
     "data": {
      "text/plain": [
       "year         1.979500e+03\n",
       "lifeExp      5.947444e+01\n",
       "pop          2.960121e+07\n",
       "gdpPercap    7.215327e+03\n",
       "dtype: float64"
      ]
     },
     "execution_count": 8,
     "metadata": {},
     "output_type": "execute_result"
    }
   ],
   "source": [
    "# apply the .mean() method to the gapminder DataFrame, but only to the columns of type 'number'\n",
    "# recall the .select_dtypes() method \n",
    "gapminder.select_dtypes(include='number').mean()"
   ]
  },
  {
   "cell_type": "markdown",
   "metadata": {},
   "source": [
    "Note that `.mean()` is just one of many statistical summaries that you can compute on Pandas DataFrame and Series objects. \n"
   ]
  },
  {
   "cell_type": "markdown",
   "metadata": {},
   "source": [
    "\n",
    "### Other statistical summaries: sum, median, std\n",
    "\n",
    "Others include the sum:"
   ]
  },
  {
   "cell_type": "code",
   "execution_count": 9,
   "metadata": {},
   "outputs": [
    {
     "data": {
      "text/plain": [
       "year         3.373068e+06\n",
       "lifeExp      1.013444e+05\n",
       "pop          5.044047e+10\n",
       "gdpPercap    1.229492e+07\n",
       "dtype: float64"
      ]
     },
     "execution_count": 9,
     "metadata": {},
     "output_type": "execute_result"
    }
   ],
   "source": [
    "# apply the .sum() method to the gapminder DataFrame, but only to the columns of type 'number'\n",
    "gapminder.select_dtypes(include='number').sum()"
   ]
  },
  {
   "cell_type": "markdown",
   "metadata": {},
   "source": [
    "The median:"
   ]
  },
  {
   "cell_type": "code",
   "execution_count": 10,
   "metadata": {},
   "outputs": [
    {
     "data": {
      "text/plain": [
       "year         1.979500e+03\n",
       "lifeExp      6.071250e+01\n",
       "pop          7.023596e+06\n",
       "gdpPercap    3.531847e+03\n",
       "dtype: float64"
      ]
     },
     "execution_count": 10,
     "metadata": {},
     "output_type": "execute_result"
    }
   ],
   "source": [
    "# apply the .median() method to the gapminder DataFrame, but only to the columns of type 'number'\n",
    "gapminder.select_dtypes(include='number').median()"
   ]
  },
  {
   "cell_type": "markdown",
   "metadata": {},
   "source": [
    "The standard deviation:"
   ]
  },
  {
   "cell_type": "code",
   "execution_count": 11,
   "metadata": {},
   "outputs": [
    {
     "data": {
      "text/plain": [
       "year         1.726533e+01\n",
       "lifeExp      1.291711e+01\n",
       "pop          1.061579e+08\n",
       "gdpPercap    9.857455e+03\n",
       "dtype: float64"
      ]
     },
     "execution_count": 11,
     "metadata": {},
     "output_type": "execute_result"
    }
   ],
   "source": [
    "# apply the .std() method to the gapminder DataFrame, but only to the columns of type 'number'\n",
    "gapminder.select_dtypes(include='number').std()"
   ]
  },
  {
   "cell_type": "markdown",
   "metadata": {},
   "source": [
    "### Counting the number of unique categorical values with the `value_counts()` method\n",
    "\n",
    "While the above methods can only be used for numeric (float or integer) columns, there are some summaries that you can use for categorical columns too. For example, the `.value_counts()` method will compute the number of times each unique value appears in a column.\n",
    "\n",
    "The following code counts the number of times each unique country appears in the `country` column:"
   ]
  },
  {
   "cell_type": "code",
   "execution_count": 12,
   "metadata": {},
   "outputs": [
    {
     "data": {
      "text/plain": [
       "country\n",
       "Afghanistan          12\n",
       "Pakistan             12\n",
       "New Zealand          12\n",
       "Nicaragua            12\n",
       "Niger                12\n",
       "                     ..\n",
       "Eritrea              12\n",
       "Equatorial Guinea    12\n",
       "El Salvador          12\n",
       "Egypt                12\n",
       "Zimbabwe             12\n",
       "Name: count, Length: 142, dtype: int64"
      ]
     },
     "execution_count": 12,
     "metadata": {},
     "output_type": "execute_result"
    }
   ],
   "source": [
    "# apply the .value_counts() method to the country column of the gapminder DataFrame\n",
    "gapminder['country'].value_counts()"
   ]
  },
  {
   "cell_type": "markdown",
   "metadata": {},
   "source": [
    "And the `continent` column:"
   ]
  },
  {
   "cell_type": "code",
   "execution_count": 13,
   "metadata": {},
   "outputs": [
    {
     "data": {
      "text/plain": [
       "continent\n",
       "Africa      624\n",
       "Asia        396\n",
       "Europe      360\n",
       "Americas    300\n",
       "Oceania      24\n",
       "Name: count, dtype: int64"
      ]
     },
     "execution_count": 13,
     "metadata": {},
     "output_type": "execute_result"
    }
   ],
   "source": [
    "# apply the .value_counts() method to the continent column of the gapminder DataFrame\n",
    "gapminder['continent'].value_counts()"
   ]
  },
  {
   "cell_type": "markdown",
   "metadata": {},
   "source": [
    "## Exercise\n",
    "\n",
    "Compute the average life expectancy for all countries in Asia in the year 1992."
   ]
  },
  {
   "cell_type": "code",
   "execution_count": 14,
   "metadata": {},
   "outputs": [
    {
     "data": {
      "text/plain": [
       "66.53721212121212"
      ]
     },
     "execution_count": 14,
     "metadata": {},
     "output_type": "execute_result"
    }
   ],
   "source": [
    "gapminder.query('(continent == \"Asia\") & (year == 1992)')['lifeExp'].mean()"
   ]
  },
  {
   "cell_type": "markdown",
   "metadata": {},
   "source": [
    "## Standardizing a DataFrame"
   ]
  },
  {
   "cell_type": "markdown",
   "metadata": {},
   "source": [
    "Let's create a version of gapminder that just contains the numeric columns:"
   ]
  },
  {
   "cell_type": "code",
   "execution_count": 15,
   "metadata": {},
   "outputs": [
    {
     "data": {
      "text/html": [
       "<div>\n",
       "<style scoped>\n",
       "    .dataframe tbody tr th:only-of-type {\n",
       "        vertical-align: middle;\n",
       "    }\n",
       "\n",
       "    .dataframe tbody tr th {\n",
       "        vertical-align: top;\n",
       "    }\n",
       "\n",
       "    .dataframe thead th {\n",
       "        text-align: right;\n",
       "    }\n",
       "</style>\n",
       "<table border=\"1\" class=\"dataframe\">\n",
       "  <thead>\n",
       "    <tr style=\"text-align: right;\">\n",
       "      <th></th>\n",
       "      <th>year</th>\n",
       "      <th>lifeExp</th>\n",
       "      <th>pop</th>\n",
       "      <th>gdpPercap</th>\n",
       "    </tr>\n",
       "  </thead>\n",
       "  <tbody>\n",
       "    <tr>\n",
       "      <th>0</th>\n",
       "      <td>1952</td>\n",
       "      <td>28.801</td>\n",
       "      <td>8425333</td>\n",
       "      <td>779.445314</td>\n",
       "    </tr>\n",
       "    <tr>\n",
       "      <th>1</th>\n",
       "      <td>1957</td>\n",
       "      <td>30.332</td>\n",
       "      <td>9240934</td>\n",
       "      <td>820.853030</td>\n",
       "    </tr>\n",
       "    <tr>\n",
       "      <th>2</th>\n",
       "      <td>1962</td>\n",
       "      <td>31.997</td>\n",
       "      <td>10267083</td>\n",
       "      <td>853.100710</td>\n",
       "    </tr>\n",
       "    <tr>\n",
       "      <th>3</th>\n",
       "      <td>1967</td>\n",
       "      <td>34.020</td>\n",
       "      <td>11537966</td>\n",
       "      <td>836.197138</td>\n",
       "    </tr>\n",
       "    <tr>\n",
       "      <th>4</th>\n",
       "      <td>1972</td>\n",
       "      <td>36.088</td>\n",
       "      <td>13079460</td>\n",
       "      <td>739.981106</td>\n",
       "    </tr>\n",
       "    <tr>\n",
       "      <th>...</th>\n",
       "      <td>...</td>\n",
       "      <td>...</td>\n",
       "      <td>...</td>\n",
       "      <td>...</td>\n",
       "    </tr>\n",
       "    <tr>\n",
       "      <th>1699</th>\n",
       "      <td>1987</td>\n",
       "      <td>62.351</td>\n",
       "      <td>9216418</td>\n",
       "      <td>706.157306</td>\n",
       "    </tr>\n",
       "    <tr>\n",
       "      <th>1700</th>\n",
       "      <td>1992</td>\n",
       "      <td>60.377</td>\n",
       "      <td>10704340</td>\n",
       "      <td>693.420786</td>\n",
       "    </tr>\n",
       "    <tr>\n",
       "      <th>1701</th>\n",
       "      <td>1997</td>\n",
       "      <td>46.809</td>\n",
       "      <td>11404948</td>\n",
       "      <td>792.449960</td>\n",
       "    </tr>\n",
       "    <tr>\n",
       "      <th>1702</th>\n",
       "      <td>2002</td>\n",
       "      <td>39.989</td>\n",
       "      <td>11926563</td>\n",
       "      <td>672.038623</td>\n",
       "    </tr>\n",
       "    <tr>\n",
       "      <th>1703</th>\n",
       "      <td>2007</td>\n",
       "      <td>43.487</td>\n",
       "      <td>12311143</td>\n",
       "      <td>469.709298</td>\n",
       "    </tr>\n",
       "  </tbody>\n",
       "</table>\n",
       "<p>1704 rows × 4 columns</p>\n",
       "</div>"
      ],
      "text/plain": [
       "      year  lifeExp       pop   gdpPercap\n",
       "0     1952   28.801   8425333  779.445314\n",
       "1     1957   30.332   9240934  820.853030\n",
       "2     1962   31.997  10267083  853.100710\n",
       "3     1967   34.020  11537966  836.197138\n",
       "4     1972   36.088  13079460  739.981106\n",
       "...    ...      ...       ...         ...\n",
       "1699  1987   62.351   9216418  706.157306\n",
       "1700  1992   60.377  10704340  693.420786\n",
       "1701  1997   46.809  11404948  792.449960\n",
       "1702  2002   39.989  11926563  672.038623\n",
       "1703  2007   43.487  12311143  469.709298\n",
       "\n",
       "[1704 rows x 4 columns]"
      ]
     },
     "execution_count": 15,
     "metadata": {},
     "output_type": "execute_result"
    }
   ],
   "source": [
    "# create gapminder_numeric, a subset of gapminder that contains only the columns of type 'number'\n",
    "gapminder_numeric = gapminder.select_dtypes(include='number').copy()\n",
    "gapminder_numeric"
   ]
  },
  {
   "cell_type": "markdown",
   "metadata": {},
   "source": [
    "If you compute the mean and the standard deviation, you can explicitly subtract the mean and divide by the standard deviation from the original DataFrame, and Pandas' will perform this operation column-wise, matching up the mean/std Series index with the DataFrame column index. So this is a very common way to \"standardize\" a data frame so that each column has mean 0 and standard deviation 1:"
   ]
  },
  {
   "cell_type": "code",
   "execution_count": 16,
   "metadata": {},
   "outputs": [
    {
     "data": {
      "text/html": [
       "<div>\n",
       "<style scoped>\n",
       "    .dataframe tbody tr th:only-of-type {\n",
       "        vertical-align: middle;\n",
       "    }\n",
       "\n",
       "    .dataframe tbody tr th {\n",
       "        vertical-align: top;\n",
       "    }\n",
       "\n",
       "    .dataframe thead th {\n",
       "        text-align: right;\n",
       "    }\n",
       "</style>\n",
       "<table border=\"1\" class=\"dataframe\">\n",
       "  <thead>\n",
       "    <tr style=\"text-align: right;\">\n",
       "      <th></th>\n",
       "      <th>year</th>\n",
       "      <th>lifeExp</th>\n",
       "      <th>pop</th>\n",
       "      <th>gdpPercap</th>\n",
       "    </tr>\n",
       "  </thead>\n",
       "  <tbody>\n",
       "    <tr>\n",
       "      <th>0</th>\n",
       "      <td>-1.592787</td>\n",
       "      <td>-2.374637</td>\n",
       "      <td>-0.199475</td>\n",
       "      <td>-0.652895</td>\n",
       "    </tr>\n",
       "    <tr>\n",
       "      <th>1</th>\n",
       "      <td>-1.303190</td>\n",
       "      <td>-2.256112</td>\n",
       "      <td>-0.191792</td>\n",
       "      <td>-0.648694</td>\n",
       "    </tr>\n",
       "    <tr>\n",
       "      <th>2</th>\n",
       "      <td>-1.013592</td>\n",
       "      <td>-2.127213</td>\n",
       "      <td>-0.182126</td>\n",
       "      <td>-0.645423</td>\n",
       "    </tr>\n",
       "    <tr>\n",
       "      <th>3</th>\n",
       "      <td>-0.723994</td>\n",
       "      <td>-1.970599</td>\n",
       "      <td>-0.170155</td>\n",
       "      <td>-0.647138</td>\n",
       "    </tr>\n",
       "    <tr>\n",
       "      <th>4</th>\n",
       "      <td>-0.434397</td>\n",
       "      <td>-1.810501</td>\n",
       "      <td>-0.155634</td>\n",
       "      <td>-0.656898</td>\n",
       "    </tr>\n",
       "    <tr>\n",
       "      <th>...</th>\n",
       "      <td>...</td>\n",
       "      <td>...</td>\n",
       "      <td>...</td>\n",
       "      <td>...</td>\n",
       "    </tr>\n",
       "    <tr>\n",
       "      <th>1699</th>\n",
       "      <td>0.434397</td>\n",
       "      <td>0.222694</td>\n",
       "      <td>-0.192023</td>\n",
       "      <td>-0.660330</td>\n",
       "    </tr>\n",
       "    <tr>\n",
       "      <th>1700</th>\n",
       "      <td>0.723994</td>\n",
       "      <td>0.069873</td>\n",
       "      <td>-0.178007</td>\n",
       "      <td>-0.661622</td>\n",
       "    </tr>\n",
       "    <tr>\n",
       "      <th>1701</th>\n",
       "      <td>1.013592</td>\n",
       "      <td>-0.980517</td>\n",
       "      <td>-0.171408</td>\n",
       "      <td>-0.651576</td>\n",
       "    </tr>\n",
       "    <tr>\n",
       "      <th>1702</th>\n",
       "      <td>1.303190</td>\n",
       "      <td>-1.508499</td>\n",
       "      <td>-0.166494</td>\n",
       "      <td>-0.663791</td>\n",
       "    </tr>\n",
       "    <tr>\n",
       "      <th>1703</th>\n",
       "      <td>1.592787</td>\n",
       "      <td>-1.237695</td>\n",
       "      <td>-0.162871</td>\n",
       "      <td>-0.684316</td>\n",
       "    </tr>\n",
       "  </tbody>\n",
       "</table>\n",
       "<p>1704 rows × 4 columns</p>\n",
       "</div>"
      ],
      "text/plain": [
       "          year   lifeExp       pop  gdpPercap\n",
       "0    -1.592787 -2.374637 -0.199475  -0.652895\n",
       "1    -1.303190 -2.256112 -0.191792  -0.648694\n",
       "2    -1.013592 -2.127213 -0.182126  -0.645423\n",
       "3    -0.723994 -1.970599 -0.170155  -0.647138\n",
       "4    -0.434397 -1.810501 -0.155634  -0.656898\n",
       "...        ...       ...       ...        ...\n",
       "1699  0.434397  0.222694 -0.192023  -0.660330\n",
       "1700  0.723994  0.069873 -0.178007  -0.661622\n",
       "1701  1.013592 -0.980517 -0.171408  -0.651576\n",
       "1702  1.303190 -1.508499 -0.166494  -0.663791\n",
       "1703  1.592787 -1.237695 -0.162871  -0.684316\n",
       "\n",
       "[1704 rows x 4 columns]"
      ]
     },
     "execution_count": 16,
     "metadata": {},
     "output_type": "execute_result"
    }
   ],
   "source": [
    "# create gapminder_std, which contains the standardized values of gapminder_numeric\n",
    "gapminder_std = (gapminder_numeric - gapminder_numeric.mean()) / gapminder_numeric.std()\n",
    "gapminder_std"
   ]
  }
 ],
 "metadata": {
  "kernelspec": {
   "display_name": "Python 3",
   "language": "python",
   "name": "python3"
  },
  "language_info": {
   "codemirror_mode": {
    "name": "ipython",
    "version": 3
   },
   "file_extension": ".py",
   "mimetype": "text/x-python",
   "name": "python",
   "nbconvert_exporter": "python",
   "pygments_lexer": "ipython3",
   "version": "3.11.4"
  }
 },
 "nbformat": 4,
 "nbformat_minor": 2
}
