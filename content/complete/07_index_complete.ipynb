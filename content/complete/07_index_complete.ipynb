{
 "cells": [
  {
   "cell_type": "markdown",
   "metadata": {},
   "source": [
    "## DataFrame indexing"
   ]
  },
  {
   "cell_type": "markdown",
   "metadata": {},
   "source": [
    "In this section we will learn about the column and row indexes of the DataFrame. These are essentially the column and row names of the DataFrame.\n",
    "\n",
    "We will keep working with the gapminder DataFrame."
   ]
  },
  {
   "cell_type": "markdown",
   "metadata": {},
   "source": [
    "Let's start by importing the libraries that we need:"
   ]
  },
  {
   "cell_type": "code",
   "execution_count": null,
   "metadata": {},
   "outputs": [],
   "source": [
    "# import the pandas library\n",
    "import pandas as pd"
   ]
  },
  {
   "cell_type": "markdown",
   "metadata": {},
   "source": [
    "Let's load the gapminder dataset:"
   ]
  },
  {
   "cell_type": "code",
   "execution_count": null,
   "metadata": {},
   "outputs": [],
   "source": [
    "# read the data from the downloaded CSV file and save it as a pandas DataFrame called gapminder\n",
    "gapminder = pd.read_csv('https://raw.githubusercontent.com/UofUDELPHI/2024-02-08-python/main/content/complete/data/gapminder.csv')"
   ]
  },
  {
   "cell_type": "markdown",
   "metadata": {},
   "source": [
    "To view the dataset we have just loaded, we can type the name of the variable that we saved it in:"
   ]
  },
  {
   "cell_type": "code",
   "execution_count": null,
   "metadata": {},
   "outputs": [],
   "source": [
    "# look at the gapminder object\n",
    "gapminder"
   ]
  },
  {
   "cell_type": "markdown",
   "metadata": {},
   "source": [
    "### The column index\n",
    "\n",
    "To extract the column index, which corresponds to the column names of the DataFrame, we need to extract the `columns` attribute of the Dataframe object."
   ]
  },
  {
   "cell_type": "code",
   "execution_count": null,
   "metadata": {},
   "outputs": [],
   "source": [
    "# extract the column index (the column names) from the gapminder DataFrame\n",
    "gapminder.columns"
   ]
  },
  {
   "cell_type": "markdown",
   "metadata": {},
   "source": [
    "Notice that the output of the cell above is an \"Index\" object. If we want to just extract the column values themselves from the index object, we can use the `list()` function to convert the index object to a simpler type of object called a \"list\" (which is just a collection of values):"
   ]
  },
  {
   "cell_type": "code",
   "execution_count": null,
   "metadata": {},
   "outputs": [],
   "source": [
    "# use the list() function to create a \"list\" of the column names\n",
    "list(gapminder.columns)"
   ]
  },
  {
   "cell_type": "markdown",
   "metadata": {},
   "source": [
    "### The row index\n",
    "\n",
    "The row index can be extracted using the `index` attribute (there is no `rows` attribute):"
   ]
  },
  {
   "cell_type": "code",
   "execution_count": null,
   "metadata": {},
   "outputs": [],
   "source": [
    "# extract the row index from gapminder\n",
    "gapminder.index"
   ]
  },
  {
   "cell_type": "markdown",
   "metadata": {},
   "source": [
    "This time, the output is a `RangeIndex` object, which corresponds to a sequence of integer values with a start value and a stop value with a step size. Since the start is 0, the stop is 1704 (note that the stop is *not* inclusive) and the step size is 1, this RangeIndex corresponds to the integer values 0, 1, 2, 3, ..., 1703. "
   ]
  },
  {
   "cell_type": "markdown",
   "metadata": {},
   "source": [
    "To extract the actual integer values from the RangeIndex object, we can convert it to a list using the `list()` function:"
   ]
  },
  {
   "cell_type": "code",
   "execution_count": null,
   "metadata": {},
   "outputs": [],
   "source": [
    "# use the list() function to create a \"list\" of the row index entries\n",
    "list(gapminder.index)"
   ]
  },
  {
   "cell_type": "markdown",
   "metadata": {},
   "source": [
    "### Changing the index\n",
    "\n",
    "You can change the index using the `set_index()` method and providing, for example, a column name as a string."
   ]
  },
  {
   "cell_type": "markdown",
   "metadata": {},
   "source": [
    "Let's set the `country` column to be the row index:"
   ]
  },
  {
   "cell_type": "code",
   "execution_count": null,
   "metadata": {},
   "outputs": [],
   "source": [
    "# use the set_index() method to set the 'country' column as the index of gapminder\n",
    "gapminder.set_index('country')"
   ]
  },
  {
   "cell_type": "markdown",
   "metadata": {},
   "source": [
    "Notice that the row index name is on its own line and the original integer row index has disappeared. "
   ]
  },
  {
   "cell_type": "markdown",
   "metadata": {},
   "source": [
    "However, notice also that this did not actually modify the `gapminder` object itself. When we print it out below, notice that it is unchanged:"
   ]
  },
  {
   "cell_type": "code",
   "execution_count": null,
   "metadata": {},
   "outputs": [],
   "source": [
    "# show that the gapminder DataFrame still has its original index\n",
    "gapminder"
   ]
  },
  {
   "cell_type": "markdown",
   "metadata": {},
   "source": [
    "If we wanted to create a version of the `gapminder` DataFrame with the country column as the index, we need to save it as a new variable (you can instead overwrite the `gapminder` variable with this new version, but this is not recommended because we want to keep an unmodified version of the original dataset accessible in our environment). \n",
    "\n",
    "Below, we create a *new* DataFrame corresponding to the version of `gapminder` with the `'country'` column as the row index:"
   ]
  },
  {
   "cell_type": "code",
   "execution_count": null,
   "metadata": {},
   "outputs": [],
   "source": [
    "# create a new DataFrame called gapminder_country where the index is the 'country' column\n",
    "gapminder_country = gapminder.set_index('country')"
   ]
  },
  {
   "cell_type": "markdown",
   "metadata": {},
   "source": [
    "Notice that the original gapminder dataset is unchanged:"
   ]
  },
  {
   "cell_type": "code",
   "execution_count": null,
   "metadata": {},
   "outputs": [],
   "source": [
    "# print gapminder to show that gapminder DataFrame still has its original index\n",
    "gapminder"
   ]
  },
  {
   "cell_type": "markdown",
   "metadata": {},
   "source": [
    "But that the `gapminder_country` DataFrame has the `country` column as its index. "
   ]
  },
  {
   "cell_type": "code",
   "execution_count": null,
   "metadata": {},
   "outputs": [],
   "source": [
    "# print gapminder_country to show that it has the 'country' column as the index \n",
    "gapminder_country"
   ]
  }
 ],
 "metadata": {
  "kernelspec": {
   "display_name": "Python 3",
   "language": "python",
   "name": "python3"
  },
  "language_info": {
   "codemirror_mode": {
    "name": "ipython",
    "version": 3
   },
   "file_extension": ".py",
   "mimetype": "text/x-python",
   "name": "python",
   "nbconvert_exporter": "python",
   "pygments_lexer": "ipython3",
   "version": "3.11.4"
  }
 },
 "nbformat": 4,
 "nbformat_minor": 2
}
